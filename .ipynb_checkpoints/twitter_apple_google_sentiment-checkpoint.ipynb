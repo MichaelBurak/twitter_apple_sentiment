{
 "cells": [
  {
   "cell_type": "markdown",
   "metadata": {},
   "source": [
    "# Product Design Mining - as a Product Designer, I want to know users' preferences - specifically paint points - , so that I can improve the product"
   ]
  },
  {
   "cell_type": "markdown",
   "metadata": {},
   "source": [
    "### False positives are more costly, in that they miss critical negative pain points and feedback by seeing them as positive - this informs metric of F 0.5 on Positive class of sentiment being the focus"
   ]
  },
  {
   "cell_type": "markdown",
   "metadata": {},
   "source": [
    "### False negatives on Negative class are the focus as they miss out on actual negative feedbacks, informing a metric of F2 on Negative class of sentiment"
   ]
  },
  {
   "cell_type": "markdown",
   "metadata": {},
   "source": [
    "#### Advertisers would care about F1 on both, in that you are looking for negative things to downplay and positive things to upsell"
   ]
  },
  {
   "cell_type": "markdown",
   "metadata": {},
   "source": [
    "#### Outstanding question:\n",
    "##### Are we required to build a multiclass classifier for the NLP project with the base dataset? I might be off base, but it looks like the NaNs in what product/brand the tweets are directed at almost 1:1 correspond to all the Neutral sentiment reviews. Predicting the neutral sentiment reviews if you include the direction of the tweet by say, filling the NaN, seems...too easy and...not informative, because it would be so heavily correlated to not referencing a product? Dropping the NaN leaves a brutally small amount of neutral reviews, but I guess I can work with that. \n",
    "\n",
    "##### It's also a bit counter seeming to the dataset's theme and any business use cases to predict people going 'meh' about not just a company's product, but about Not a product, or something that it's hard to tell if it is referring to a product, however data entry was done. \n",
    "\n",
    "#### It's most of the dataset, this combination of neutral sentiment + NaN product or brand that it's directed at, and it's totally a judgment call on what to do with it, but like...perspective or input when people see this on how you would tackle it?\n",
    "\n",
    "##### I might have done the query to see that these match up between the two columns wrong and disregard this if so: \n",
    "\n",
    "##### # Wherein 1 in sentiment is not having a strong emotion/can't tell, and 2 in direction is a NaN that's been filled \n",
    "##### neutrals = [1,2]\n",
    "##### df[(df[['sentiment','direction']].values == neutrals).all(axis=1)]\n",
    "\n",
    "##### # Returns 5444, all the neutral sentiments and 5444/5801 of the no product direction values.``"
   ]
  },
  {
   "cell_type": "markdown",
   "metadata": {
    "colab_type": "text",
    "id": "K6yxXz1JmD1V"
   },
   "source": [
    "# Imports and reading in data"
   ]
  },
  {
   "cell_type": "code",
   "execution_count": 1,
   "metadata": {
    "ExecuteTime": {
     "end_time": "2020-06-23T14:38:40.829487Z",
     "start_time": "2020-06-23T14:38:34.858092Z"
    },
    "colab": {
     "base_uri": "https://localhost:8080/",
     "height": 122
    },
    "colab_type": "code",
    "id": "-r2YC1fHmD1W",
    "outputId": "b3865e7f-5e1b-428a-e834-a6e02d3c3ea5",
    "scrolled": false
   },
   "outputs": [
    {
     "name": "stderr",
     "output_type": "stream",
     "text": [
      "Using TensorFlow backend.\n",
      "/Users/michaelburak/opt/anaconda3/envs/learn-env/lib/python3.6/site-packages/sklearn/utils/deprecation.py:143: FutureWarning: The sklearn.metrics.classification module is  deprecated in version 0.22 and will be removed in version 0.24. The corresponding classes / functions should instead be imported from sklearn.metrics. Anything that cannot be imported from sklearn.metrics is now part of the private API.\n",
      "  warnings.warn(message, FutureWarning)\n"
     ]
    }
   ],
   "source": [
    "import keras\n",
    "import nltk\n",
    "import pandas as pd\n",
    "import numpy as np\n",
    "import seaborn as sns\n",
    "import re\n",
    "import matplotlib.pyplot as plt\n",
    "import yellowbrick\n",
    "import tensorflow as tf\n",
    "from yellowbrick.text import FreqDistVisualizer\n",
    "from yellowbrick.text import TSNEVisualizer\n",
    "from sklearn.feature_extraction.text import TfidfVectorizer\n",
    "from sklearn.feature_extraction.text import CountVectorizer\n",
    "import spacy\n",
    "nlp = spacy.load('en_core_web_sm')\n",
    "\n",
    "# Import the displaCy library\n",
    "from spacy import displacy"
   ]
  },
  {
   "cell_type": "code",
   "execution_count": 2,
   "metadata": {
    "ExecuteTime": {
     "end_time": "2020-06-23T14:38:40.833918Z",
     "start_time": "2020-06-23T14:38:40.831853Z"
    }
   },
   "outputs": [],
   "source": [
    "from sklearn import metrics"
   ]
  },
  {
   "cell_type": "code",
   "execution_count": 3,
   "metadata": {
    "ExecuteTime": {
     "end_time": "2020-06-23T14:38:40.838278Z",
     "start_time": "2020-06-23T14:38:40.836081Z"
    },
    "colab": {},
    "colab_type": "code",
    "id": "QcMpYXnmmD1a"
   },
   "outputs": [],
   "source": [
    "plt.style.use('seaborn-talk')"
   ]
  },
  {
   "cell_type": "code",
   "execution_count": 4,
   "metadata": {
    "ExecuteTime": {
     "end_time": "2020-06-23T14:38:40.842054Z",
     "start_time": "2020-06-23T14:38:40.840002Z"
    },
    "colab": {
     "base_uri": "https://localhost:8080/",
     "height": 122
    },
    "colab_type": "code",
    "id": "8HDsst3cmKsd",
    "outputId": "9dd32f4e-d1f0-4677-ba5c-21c5402997bd"
   },
   "outputs": [],
   "source": [
    "# from google.colab import drive\n",
    "# drive.mount('/content/drive')"
   ]
  },
  {
   "cell_type": "markdown",
   "metadata": {
    "colab_type": "text",
    "id": "BsW5NbfZmD1c"
   },
   "source": [
    "## Reading in data"
   ]
  },
  {
   "cell_type": "code",
   "execution_count": 5,
   "metadata": {
    "ExecuteTime": {
     "end_time": "2020-06-23T14:38:40.878022Z",
     "start_time": "2020-06-23T14:38:40.843405Z"
    },
    "colab": {
     "base_uri": "https://localhost:8080/",
     "height": 992
    },
    "colab_type": "code",
    "id": "l_c6vuvnmD1d",
    "outputId": "5afca278-c020-4883-e1b8-b7b03af7f918",
    "scrolled": true
   },
   "outputs": [
    {
     "data": {
      "text/html": [
       "<div>\n",
       "<style scoped>\n",
       "    .dataframe tbody tr th:only-of-type {\n",
       "        vertical-align: middle;\n",
       "    }\n",
       "\n",
       "    .dataframe tbody tr th {\n",
       "        vertical-align: top;\n",
       "    }\n",
       "\n",
       "    .dataframe thead th {\n",
       "        text-align: right;\n",
       "    }\n",
       "</style>\n",
       "<table border=\"1\" class=\"dataframe\">\n",
       "  <thead>\n",
       "    <tr style=\"text-align: right;\">\n",
       "      <th></th>\n",
       "      <th>tweet_text</th>\n",
       "      <th>emotion_in_tweet_is_directed_at</th>\n",
       "      <th>is_there_an_emotion_directed_at_a_brand_or_product</th>\n",
       "    </tr>\n",
       "  </thead>\n",
       "  <tbody>\n",
       "    <tr>\n",
       "      <td>0</td>\n",
       "      <td>.@wesley83 I have a 3G iPhone. After 3 hrs twe...</td>\n",
       "      <td>iPhone</td>\n",
       "      <td>Negative emotion</td>\n",
       "    </tr>\n",
       "    <tr>\n",
       "      <td>1</td>\n",
       "      <td>@jessedee Know about @fludapp ? Awesome iPad/i...</td>\n",
       "      <td>iPad or iPhone App</td>\n",
       "      <td>Positive emotion</td>\n",
       "    </tr>\n",
       "    <tr>\n",
       "      <td>2</td>\n",
       "      <td>@swonderlin Can not wait for #iPad 2 also. The...</td>\n",
       "      <td>iPad</td>\n",
       "      <td>Positive emotion</td>\n",
       "    </tr>\n",
       "    <tr>\n",
       "      <td>3</td>\n",
       "      <td>@sxsw I hope this year's festival isn't as cra...</td>\n",
       "      <td>iPad or iPhone App</td>\n",
       "      <td>Negative emotion</td>\n",
       "    </tr>\n",
       "    <tr>\n",
       "      <td>4</td>\n",
       "      <td>@sxtxstate great stuff on Fri #SXSW: Marissa M...</td>\n",
       "      <td>Google</td>\n",
       "      <td>Positive emotion</td>\n",
       "    </tr>\n",
       "    <tr>\n",
       "      <td>5</td>\n",
       "      <td>@teachntech00 New iPad Apps For #SpeechTherapy...</td>\n",
       "      <td>NaN</td>\n",
       "      <td>No emotion toward brand or product</td>\n",
       "    </tr>\n",
       "    <tr>\n",
       "      <td>6</td>\n",
       "      <td>NaN</td>\n",
       "      <td>NaN</td>\n",
       "      <td>No emotion toward brand or product</td>\n",
       "    </tr>\n",
       "    <tr>\n",
       "      <td>7</td>\n",
       "      <td>#SXSW is just starting, #CTIA is around the co...</td>\n",
       "      <td>Android</td>\n",
       "      <td>Positive emotion</td>\n",
       "    </tr>\n",
       "    <tr>\n",
       "      <td>8</td>\n",
       "      <td>Beautifully smart and simple idea RT @madebyma...</td>\n",
       "      <td>iPad or iPhone App</td>\n",
       "      <td>Positive emotion</td>\n",
       "    </tr>\n",
       "    <tr>\n",
       "      <td>9</td>\n",
       "      <td>Counting down the days to #sxsw plus strong Ca...</td>\n",
       "      <td>Apple</td>\n",
       "      <td>Positive emotion</td>\n",
       "    </tr>\n",
       "    <tr>\n",
       "      <td>10</td>\n",
       "      <td>Excited to meet the @samsungmobileus at #sxsw ...</td>\n",
       "      <td>Android</td>\n",
       "      <td>Positive emotion</td>\n",
       "    </tr>\n",
       "    <tr>\n",
       "      <td>11</td>\n",
       "      <td>Find &amp;amp; Start Impromptu Parties at #SXSW Wi...</td>\n",
       "      <td>Android App</td>\n",
       "      <td>Positive emotion</td>\n",
       "    </tr>\n",
       "    <tr>\n",
       "      <td>12</td>\n",
       "      <td>Foursquare ups the game, just in time for #SXS...</td>\n",
       "      <td>Android App</td>\n",
       "      <td>Positive emotion</td>\n",
       "    </tr>\n",
       "    <tr>\n",
       "      <td>13</td>\n",
       "      <td>Gotta love this #SXSW Google Calendar featurin...</td>\n",
       "      <td>Other Google product or service</td>\n",
       "      <td>Positive emotion</td>\n",
       "    </tr>\n",
       "    <tr>\n",
       "      <td>14</td>\n",
       "      <td>Great #sxsw ipad app from @madebymany: http://...</td>\n",
       "      <td>iPad or iPhone App</td>\n",
       "      <td>Positive emotion</td>\n",
       "    </tr>\n",
       "    <tr>\n",
       "      <td>15</td>\n",
       "      <td>haha, awesomely rad iPad app by @madebymany ht...</td>\n",
       "      <td>iPad or iPhone App</td>\n",
       "      <td>Positive emotion</td>\n",
       "    </tr>\n",
       "    <tr>\n",
       "      <td>16</td>\n",
       "      <td>Holler Gram for iPad on the iTunes App Store -...</td>\n",
       "      <td>NaN</td>\n",
       "      <td>No emotion toward brand or product</td>\n",
       "    </tr>\n",
       "    <tr>\n",
       "      <td>17</td>\n",
       "      <td>I just noticed DST is coming this weekend. How...</td>\n",
       "      <td>iPhone</td>\n",
       "      <td>Negative emotion</td>\n",
       "    </tr>\n",
       "    <tr>\n",
       "      <td>18</td>\n",
       "      <td>Just added my #SXSW flights to @planely. Match...</td>\n",
       "      <td>iPad or iPhone App</td>\n",
       "      <td>Positive emotion</td>\n",
       "    </tr>\n",
       "    <tr>\n",
       "      <td>19</td>\n",
       "      <td>Must have #SXSW app! RT @malbonster: Lovely re...</td>\n",
       "      <td>iPad or iPhone App</td>\n",
       "      <td>Positive emotion</td>\n",
       "    </tr>\n",
       "  </tbody>\n",
       "</table>\n",
       "</div>"
      ],
      "text/plain": [
       "                                           tweet_text  \\\n",
       "0   .@wesley83 I have a 3G iPhone. After 3 hrs twe...   \n",
       "1   @jessedee Know about @fludapp ? Awesome iPad/i...   \n",
       "2   @swonderlin Can not wait for #iPad 2 also. The...   \n",
       "3   @sxsw I hope this year's festival isn't as cra...   \n",
       "4   @sxtxstate great stuff on Fri #SXSW: Marissa M...   \n",
       "5   @teachntech00 New iPad Apps For #SpeechTherapy...   \n",
       "6                                                 NaN   \n",
       "7   #SXSW is just starting, #CTIA is around the co...   \n",
       "8   Beautifully smart and simple idea RT @madebyma...   \n",
       "9   Counting down the days to #sxsw plus strong Ca...   \n",
       "10  Excited to meet the @samsungmobileus at #sxsw ...   \n",
       "11  Find &amp; Start Impromptu Parties at #SXSW Wi...   \n",
       "12  Foursquare ups the game, just in time for #SXS...   \n",
       "13  Gotta love this #SXSW Google Calendar featurin...   \n",
       "14  Great #sxsw ipad app from @madebymany: http://...   \n",
       "15  haha, awesomely rad iPad app by @madebymany ht...   \n",
       "16  Holler Gram for iPad on the iTunes App Store -...   \n",
       "17  I just noticed DST is coming this weekend. How...   \n",
       "18  Just added my #SXSW flights to @planely. Match...   \n",
       "19  Must have #SXSW app! RT @malbonster: Lovely re...   \n",
       "\n",
       "    emotion_in_tweet_is_directed_at  \\\n",
       "0                            iPhone   \n",
       "1                iPad or iPhone App   \n",
       "2                              iPad   \n",
       "3                iPad or iPhone App   \n",
       "4                            Google   \n",
       "5                               NaN   \n",
       "6                               NaN   \n",
       "7                           Android   \n",
       "8                iPad or iPhone App   \n",
       "9                             Apple   \n",
       "10                          Android   \n",
       "11                      Android App   \n",
       "12                      Android App   \n",
       "13  Other Google product or service   \n",
       "14               iPad or iPhone App   \n",
       "15               iPad or iPhone App   \n",
       "16                              NaN   \n",
       "17                           iPhone   \n",
       "18               iPad or iPhone App   \n",
       "19               iPad or iPhone App   \n",
       "\n",
       "   is_there_an_emotion_directed_at_a_brand_or_product  \n",
       "0                                    Negative emotion  \n",
       "1                                    Positive emotion  \n",
       "2                                    Positive emotion  \n",
       "3                                    Negative emotion  \n",
       "4                                    Positive emotion  \n",
       "5                  No emotion toward brand or product  \n",
       "6                  No emotion toward brand or product  \n",
       "7                                    Positive emotion  \n",
       "8                                    Positive emotion  \n",
       "9                                    Positive emotion  \n",
       "10                                   Positive emotion  \n",
       "11                                   Positive emotion  \n",
       "12                                   Positive emotion  \n",
       "13                                   Positive emotion  \n",
       "14                                   Positive emotion  \n",
       "15                                   Positive emotion  \n",
       "16                 No emotion toward brand or product  \n",
       "17                                   Negative emotion  \n",
       "18                                   Positive emotion  \n",
       "19                                   Positive emotion  "
      ]
     },
     "execution_count": 5,
     "metadata": {},
     "output_type": "execute_result"
    }
   ],
   "source": [
    "# df = pd.read_csv('drive/My Drive/judge-1377884607_tweet_product_company.csv',encoding = \"ISO-8859-1\")\n",
    "df = pd.read_csv('judge-1377884607_tweet_product_company.csv',encoding = \"ISO-8859-1\")\n",
    "\n",
    "df.head(20)"
   ]
  },
  {
   "cell_type": "code",
   "execution_count": 6,
   "metadata": {
    "ExecuteTime": {
     "end_time": "2020-06-23T14:38:40.885442Z",
     "start_time": "2020-06-23T14:38:40.879536Z"
    }
   },
   "outputs": [
    {
     "data": {
      "text/plain": [
       "tweet_text                                               1\n",
       "emotion_in_tweet_is_directed_at                       5802\n",
       "is_there_an_emotion_directed_at_a_brand_or_product       0\n",
       "dtype: int64"
      ]
     },
     "execution_count": 6,
     "metadata": {},
     "output_type": "execute_result"
    }
   ],
   "source": [
    "df.isnull().sum()"
   ]
  },
  {
   "cell_type": "code",
   "execution_count": 7,
   "metadata": {
    "ExecuteTime": {
     "end_time": "2020-06-23T14:38:40.895994Z",
     "start_time": "2020-06-23T14:38:40.887287Z"
    }
   },
   "outputs": [
    {
     "data": {
      "text/plain": [
       "tweet_text                                               0\n",
       "emotion_in_tweet_is_directed_at                       5801\n",
       "is_there_an_emotion_directed_at_a_brand_or_product       0\n",
       "dtype: int64"
      ]
     },
     "execution_count": 7,
     "metadata": {},
     "output_type": "execute_result"
    }
   ],
   "source": [
    "df.dropna(subset=['tweet_text'],inplace=True)\n",
    "\n",
    "df.isnull().sum()"
   ]
  },
  {
   "cell_type": "code",
   "execution_count": 8,
   "metadata": {
    "ExecuteTime": {
     "end_time": "2020-06-23T14:38:40.904997Z",
     "start_time": "2020-06-23T14:38:40.898993Z"
    }
   },
   "outputs": [
    {
     "data": {
      "text/plain": [
       "NaN                                5801\n",
       "iPad                                946\n",
       "Apple                               661\n",
       "iPad or iPhone App                  470\n",
       "Google                              430\n",
       "iPhone                              297\n",
       "Other Google product or service     293\n",
       "Android App                          81\n",
       "Android                              78\n",
       "Other Apple product or service       35\n",
       "Name: emotion_in_tweet_is_directed_at, dtype: int64"
      ]
     },
     "execution_count": 8,
     "metadata": {},
     "output_type": "execute_result"
    }
   ],
   "source": [
    "df.emotion_in_tweet_is_directed_at.value_counts(dropna=False)"
   ]
  },
  {
   "cell_type": "code",
   "execution_count": 9,
   "metadata": {
    "ExecuteTime": {
     "end_time": "2020-06-23T14:38:40.909866Z",
     "start_time": "2020-06-23T14:38:40.907463Z"
    }
   },
   "outputs": [
    {
     "name": "stdout",
     "output_type": "stream",
     "text": [
      "0.6380334359876815\n"
     ]
    }
   ],
   "source": [
    "print(5801 / len(df))"
   ]
  },
  {
   "cell_type": "code",
   "execution_count": 10,
   "metadata": {
    "ExecuteTime": {
     "end_time": "2020-06-23T14:38:40.916855Z",
     "start_time": "2020-06-23T14:38:40.911420Z"
    }
   },
   "outputs": [
    {
     "data": {
      "text/plain": [
       "No emotion toward brand or product    5388\n",
       "Positive emotion                      2978\n",
       "Negative emotion                       570\n",
       "I can't tell                           156\n",
       "Name: is_there_an_emotion_directed_at_a_brand_or_product, dtype: int64"
      ]
     },
     "execution_count": 10,
     "metadata": {},
     "output_type": "execute_result"
    }
   ],
   "source": [
    "df.is_there_an_emotion_directed_at_a_brand_or_product.value_counts(dropna=False)"
   ]
  },
  {
   "cell_type": "code",
   "execution_count": 11,
   "metadata": {
    "ExecuteTime": {
     "end_time": "2020-06-23T14:38:40.926463Z",
     "start_time": "2020-06-23T14:38:40.918185Z"
    },
    "colab": {},
    "colab_type": "code",
    "id": "Vs_OQMjrmD1f"
   },
   "outputs": [
    {
     "data": {
      "text/plain": [
       "tweet_text                                            0\n",
       "emotion_in_tweet_is_directed_at                       0\n",
       "is_there_an_emotion_directed_at_a_brand_or_product    0\n",
       "dtype: int64"
      ]
     },
     "execution_count": 11,
     "metadata": {},
     "output_type": "execute_result"
    }
   ],
   "source": [
    "df.fillna('unknown', inplace=True) \n",
    "\n",
    "df.isnull().sum()"
   ]
  },
  {
   "cell_type": "code",
   "execution_count": 12,
   "metadata": {
    "ExecuteTime": {
     "end_time": "2020-06-23T14:38:40.932999Z",
     "start_time": "2020-06-23T14:38:40.927807Z"
    }
   },
   "outputs": [
    {
     "data": {
      "text/plain": [
       "No emotion toward brand or product    5388\n",
       "Positive emotion                      2978\n",
       "Negative emotion                       570\n",
       "I can't tell                           156\n",
       "Name: is_there_an_emotion_directed_at_a_brand_or_product, dtype: int64"
      ]
     },
     "execution_count": 12,
     "metadata": {},
     "output_type": "execute_result"
    }
   ],
   "source": [
    "df.is_there_an_emotion_directed_at_a_brand_or_product.value_counts(dropna=False)"
   ]
  },
  {
   "cell_type": "markdown",
   "metadata": {
    "colab_type": "text",
    "id": "jp7WgAH6mD1k"
   },
   "source": [
    "# Preprocessing"
   ]
  },
  {
   "cell_type": "markdown",
   "metadata": {
    "colab_type": "text",
    "id": "ojXPL6UFmD1k"
   },
   "source": [
    "## Renaming columns"
   ]
  },
  {
   "cell_type": "code",
   "execution_count": 13,
   "metadata": {
    "ExecuteTime": {
     "end_time": "2020-06-23T14:38:40.944451Z",
     "start_time": "2020-06-23T14:38:40.934291Z"
    },
    "colab": {
     "base_uri": "https://localhost:8080/",
     "height": 419
    },
    "colab_type": "code",
    "id": "NRCCeY-jmD1l",
    "outputId": "7d2ca584-0aa6-40e0-ce44-8efda37e8afd"
   },
   "outputs": [
    {
     "data": {
      "text/html": [
       "<div>\n",
       "<style scoped>\n",
       "    .dataframe tbody tr th:only-of-type {\n",
       "        vertical-align: middle;\n",
       "    }\n",
       "\n",
       "    .dataframe tbody tr th {\n",
       "        vertical-align: top;\n",
       "    }\n",
       "\n",
       "    .dataframe thead th {\n",
       "        text-align: right;\n",
       "    }\n",
       "</style>\n",
       "<table border=\"1\" class=\"dataframe\">\n",
       "  <thead>\n",
       "    <tr style=\"text-align: right;\">\n",
       "      <th></th>\n",
       "      <th>text</th>\n",
       "      <th>direction</th>\n",
       "      <th>sentiment</th>\n",
       "    </tr>\n",
       "  </thead>\n",
       "  <tbody>\n",
       "    <tr>\n",
       "      <td>0</td>\n",
       "      <td>.@wesley83 I have a 3G iPhone. After 3 hrs twe...</td>\n",
       "      <td>iPhone</td>\n",
       "      <td>Negative emotion</td>\n",
       "    </tr>\n",
       "    <tr>\n",
       "      <td>1</td>\n",
       "      <td>@jessedee Know about @fludapp ? Awesome iPad/i...</td>\n",
       "      <td>iPad or iPhone App</td>\n",
       "      <td>Positive emotion</td>\n",
       "    </tr>\n",
       "    <tr>\n",
       "      <td>2</td>\n",
       "      <td>@swonderlin Can not wait for #iPad 2 also. The...</td>\n",
       "      <td>iPad</td>\n",
       "      <td>Positive emotion</td>\n",
       "    </tr>\n",
       "    <tr>\n",
       "      <td>3</td>\n",
       "      <td>@sxsw I hope this year's festival isn't as cra...</td>\n",
       "      <td>iPad or iPhone App</td>\n",
       "      <td>Negative emotion</td>\n",
       "    </tr>\n",
       "    <tr>\n",
       "      <td>4</td>\n",
       "      <td>@sxtxstate great stuff on Fri #SXSW: Marissa M...</td>\n",
       "      <td>Google</td>\n",
       "      <td>Positive emotion</td>\n",
       "    </tr>\n",
       "    <tr>\n",
       "      <td>...</td>\n",
       "      <td>...</td>\n",
       "      <td>...</td>\n",
       "      <td>...</td>\n",
       "    </tr>\n",
       "    <tr>\n",
       "      <td>9088</td>\n",
       "      <td>Ipad everywhere. #SXSW {link}</td>\n",
       "      <td>iPad</td>\n",
       "      <td>Positive emotion</td>\n",
       "    </tr>\n",
       "    <tr>\n",
       "      <td>9089</td>\n",
       "      <td>Wave, buzz... RT @mention We interrupt your re...</td>\n",
       "      <td>unknown</td>\n",
       "      <td>No emotion toward brand or product</td>\n",
       "    </tr>\n",
       "    <tr>\n",
       "      <td>9090</td>\n",
       "      <td>Google's Zeiger, a physician never reported po...</td>\n",
       "      <td>unknown</td>\n",
       "      <td>No emotion toward brand or product</td>\n",
       "    </tr>\n",
       "    <tr>\n",
       "      <td>9091</td>\n",
       "      <td>Some Verizon iPhone customers complained their...</td>\n",
       "      <td>unknown</td>\n",
       "      <td>No emotion toward brand or product</td>\n",
       "    </tr>\n",
       "    <tr>\n",
       "      <td>9092</td>\n",
       "      <td>Ï¡Ïàü_ÊÎÒ£Áââ_£â_ÛâRT @...</td>\n",
       "      <td>unknown</td>\n",
       "      <td>No emotion toward brand or product</td>\n",
       "    </tr>\n",
       "  </tbody>\n",
       "</table>\n",
       "<p>9092 rows × 3 columns</p>\n",
       "</div>"
      ],
      "text/plain": [
       "                                                   text           direction  \\\n",
       "0     .@wesley83 I have a 3G iPhone. After 3 hrs twe...              iPhone   \n",
       "1     @jessedee Know about @fludapp ? Awesome iPad/i...  iPad or iPhone App   \n",
       "2     @swonderlin Can not wait for #iPad 2 also. The...                iPad   \n",
       "3     @sxsw I hope this year's festival isn't as cra...  iPad or iPhone App   \n",
       "4     @sxtxstate great stuff on Fri #SXSW: Marissa M...              Google   \n",
       "...                                                 ...                 ...   \n",
       "9088                      Ipad everywhere. #SXSW {link}                iPad   \n",
       "9089  Wave, buzz... RT @mention We interrupt your re...             unknown   \n",
       "9090  Google's Zeiger, a physician never reported po...             unknown   \n",
       "9091  Some Verizon iPhone customers complained their...             unknown   \n",
       "9092  Ï¡Ïàü_ÊÎÒ£Áââ_£â_ÛâRT @...             unknown   \n",
       "\n",
       "                               sentiment  \n",
       "0                       Negative emotion  \n",
       "1                       Positive emotion  \n",
       "2                       Positive emotion  \n",
       "3                       Negative emotion  \n",
       "4                       Positive emotion  \n",
       "...                                  ...  \n",
       "9088                    Positive emotion  \n",
       "9089  No emotion toward brand or product  \n",
       "9090  No emotion toward brand or product  \n",
       "9091  No emotion toward brand or product  \n",
       "9092  No emotion toward brand or product  \n",
       "\n",
       "[9092 rows x 3 columns]"
      ]
     },
     "execution_count": 13,
     "metadata": {},
     "output_type": "execute_result"
    }
   ],
   "source": [
    "df = df.rename(columns={\"tweet_text\": \"text\", \"emotion_in_tweet_is_directed_at\":\"direction\", \"is_there_an_emotion_directed_at_a_brand_or_product\":\"sentiment\"})\n",
    "\n",
    "df"
   ]
  },
  {
   "cell_type": "code",
   "execution_count": 14,
   "metadata": {
    "ExecuteTime": {
     "end_time": "2020-06-23T14:38:40.951174Z",
     "start_time": "2020-06-23T14:38:40.946001Z"
    },
    "colab": {
     "base_uri": "https://localhost:8080/",
     "height": 102
    },
    "colab_type": "code",
    "id": "ZHRRc2LeWfrW",
    "outputId": "f43b46c0-f120-4866-e14c-d09f4a5596c2"
   },
   "outputs": [
    {
     "data": {
      "text/plain": [
       "No emotion toward brand or product    5388\n",
       "Positive emotion                      2978\n",
       "Negative emotion                       570\n",
       "I can't tell                           156\n",
       "Name: sentiment, dtype: int64"
      ]
     },
     "execution_count": 14,
     "metadata": {},
     "output_type": "execute_result"
    }
   ],
   "source": [
    "df.sentiment.value_counts(dropna=False)"
   ]
  },
  {
   "cell_type": "code",
   "execution_count": 15,
   "metadata": {
    "ExecuteTime": {
     "end_time": "2020-06-23T14:38:40.958698Z",
     "start_time": "2020-06-23T14:38:40.952620Z"
    }
   },
   "outputs": [
    {
     "data": {
      "text/plain": [
       "unknown                            5801\n",
       "iPad                                946\n",
       "Apple                               661\n",
       "iPad or iPhone App                  470\n",
       "Google                              430\n",
       "iPhone                              297\n",
       "Other Google product or service     293\n",
       "Android App                          81\n",
       "Android                              78\n",
       "Other Apple product or service       35\n",
       "Name: direction, dtype: int64"
      ]
     },
     "execution_count": 15,
     "metadata": {},
     "output_type": "execute_result"
    }
   ],
   "source": [
    "df.direction.value_counts(dropna=False)"
   ]
  },
  {
   "cell_type": "markdown",
   "metadata": {},
   "source": [
    "### Mapping sentiment to 0 for negative, 1 for neutral-like, 2 for positive"
   ]
  },
  {
   "cell_type": "code",
   "execution_count": 16,
   "metadata": {
    "ExecuteTime": {
     "end_time": "2020-06-23T14:38:40.965977Z",
     "start_time": "2020-06-23T14:38:40.960377Z"
    },
    "colab": {},
    "colab_type": "code",
    "id": "vm5xuAfdmD1n"
   },
   "outputs": [],
   "source": [
    "df.sentiment = df.sentiment.map({'Positive emotion': 2, 'No emotion toward brand or product':1, \"I can't tell\":1, 'Negative emotion': 0})"
   ]
  },
  {
   "cell_type": "code",
   "execution_count": 17,
   "metadata": {
    "ExecuteTime": {
     "end_time": "2020-06-23T14:38:40.972838Z",
     "start_time": "2020-06-23T14:38:40.967511Z"
    },
    "colab": {
     "base_uri": "https://localhost:8080/",
     "height": 85
    },
    "colab_type": "code",
    "id": "AXjXRpppmD1p",
    "outputId": "5e913ecc-4f35-4a08-ad3f-012404c46412",
    "scrolled": true
   },
   "outputs": [
    {
     "data": {
      "text/plain": [
       "1    5544\n",
       "2    2978\n",
       "0     570\n",
       "Name: sentiment, dtype: int64"
      ]
     },
     "execution_count": 17,
     "metadata": {},
     "output_type": "execute_result"
    }
   ],
   "source": [
    "df.sentiment.value_counts(dropna=False)"
   ]
  },
  {
   "cell_type": "code",
   "execution_count": 18,
   "metadata": {
    "ExecuteTime": {
     "end_time": "2020-06-23T14:38:41.120919Z",
     "start_time": "2020-06-23T14:38:40.974840Z"
    },
    "colab": {
     "base_uri": "https://localhost:8080/",
     "height": 476
    },
    "colab_type": "code",
    "id": "16NfPYqG1S2a",
    "outputId": "9a0b5da7-281a-4ebd-c29a-dfbf55e54865"
   },
   "outputs": [
    {
     "data": {
      "text/plain": [
       "<matplotlib.axes._subplots.AxesSubplot at 0x15ea03080>"
      ]
     },
     "execution_count": 18,
     "metadata": {},
     "output_type": "execute_result"
    },
    {
     "data": {
      "image/png": "[encoded data removed]",
      "text/plain": [
       "<Figure size 748.8x514.8 with 1 Axes>"
      ]
     },
     "metadata": {
      "needs_background": "light"
     },
     "output_type": "display_data"
    }
   ],
   "source": [
    "sns.countplot(df.sentiment)"
   ]
  },
  {
   "cell_type": "code",
   "execution_count": 19,
   "metadata": {
    "ExecuteTime": {
     "end_time": "2020-06-23T14:38:41.128592Z",
     "start_time": "2020-06-23T14:38:41.123103Z"
    },
    "colab": {
     "base_uri": "https://localhost:8080/",
     "height": 204
    },
    "colab_type": "code",
    "id": "zuqzXEhDSMND",
    "outputId": "d85b63bd-f89c-49c8-bf80-283eed16ab0f"
   },
   "outputs": [
    {
     "data": {
      "text/plain": [
       "unknown                            5801\n",
       "iPad                                946\n",
       "Apple                               661\n",
       "iPad or iPhone App                  470\n",
       "Google                              430\n",
       "iPhone                              297\n",
       "Other Google product or service     293\n",
       "Android App                          81\n",
       "Android                              78\n",
       "Other Apple product or service       35\n",
       "Name: direction, dtype: int64"
      ]
     },
     "execution_count": 19,
     "metadata": {},
     "output_type": "execute_result"
    }
   ],
   "source": [
    "df.direction.value_counts(dropna=False)"
   ]
  },
  {
   "cell_type": "markdown",
   "metadata": {},
   "source": [
    "### Mapping direction of the tweet to 0 for apple and its products/services, 1 for google, 2 for unknown"
   ]
  },
  {
   "cell_type": "code",
   "execution_count": 20,
   "metadata": {
    "ExecuteTime": {
     "end_time": "2020-06-23T14:38:41.134514Z",
     "start_time": "2020-06-23T14:38:41.129932Z"
    },
    "colab": {},
    "colab_type": "code",
    "id": "1KMwBXgRSUm0"
   },
   "outputs": [],
   "source": [
    "df.direction = df.direction.map({'iPad':0, 'Apple':0,'iPad or iPhone App':0,'iPhone':0,'Other Apple product or service':0,'Google':1,'Other Google product or service':1,'Android App':1,'Android':1, 'unknown':2})"
   ]
  },
  {
   "cell_type": "code",
   "execution_count": 21,
   "metadata": {
    "ExecuteTime": {
     "end_time": "2020-06-23T14:38:41.140739Z",
     "start_time": "2020-06-23T14:38:41.135911Z"
    },
    "colab": {
     "base_uri": "https://localhost:8080/",
     "height": 85
    },
    "colab_type": "code",
    "id": "CtyOWs2iSuIm",
    "outputId": "0a155aaf-77f8-4913-acdc-4d8fdd7fd534"
   },
   "outputs": [
    {
     "data": {
      "text/plain": [
       "2    5801\n",
       "0    2409\n",
       "1     882\n",
       "Name: direction, dtype: int64"
      ]
     },
     "execution_count": 21,
     "metadata": {},
     "output_type": "execute_result"
    }
   ],
   "source": [
    "df.direction.value_counts(dropna=False)"
   ]
  },
  {
   "cell_type": "code",
   "execution_count": 22,
   "metadata": {
    "ExecuteTime": {
     "end_time": "2020-06-23T14:38:41.279780Z",
     "start_time": "2020-06-23T14:38:41.142231Z"
    },
    "colab": {
     "base_uri": "https://localhost:8080/",
     "height": 476
    },
    "colab_type": "code",
    "id": "_ZfVlEng1MRy",
    "outputId": "90b6da3f-e158-4b63-c6ec-d43572b28f64"
   },
   "outputs": [
    {
     "data": {
      "text/plain": [
       "<matplotlib.axes._subplots.AxesSubplot at 0x15eca30f0>"
      ]
     },
     "execution_count": 22,
     "metadata": {},
     "output_type": "execute_result"
    },
    {
     "data": {
      "image/png": "[encoded data removed]",
      "text/plain": [
       "<Figure size 748.8x514.8 with 1 Axes>"
      ]
     },
     "metadata": {
      "needs_background": "light"
     },
     "output_type": "display_data"
    }
   ],
   "source": [
    "sns.countplot(df.direction)"
   ]
  },
  {
   "cell_type": "code",
   "execution_count": 23,
   "metadata": {
    "ExecuteTime": {
     "end_time": "2020-06-23T14:38:41.299705Z",
     "start_time": "2020-06-23T14:38:41.286640Z"
    }
   },
   "outputs": [
    {
     "data": {
      "text/html": [
       "<div>\n",
       "<style scoped>\n",
       "    .dataframe tbody tr th:only-of-type {\n",
       "        vertical-align: middle;\n",
       "    }\n",
       "\n",
       "    .dataframe tbody tr th {\n",
       "        vertical-align: top;\n",
       "    }\n",
       "\n",
       "    .dataframe thead th {\n",
       "        text-align: right;\n",
       "    }\n",
       "</style>\n",
       "<table border=\"1\" class=\"dataframe\">\n",
       "  <thead>\n",
       "    <tr style=\"text-align: right;\">\n",
       "      <th></th>\n",
       "      <th>text</th>\n",
       "      <th>direction</th>\n",
       "      <th>sentiment</th>\n",
       "    </tr>\n",
       "  </thead>\n",
       "  <tbody>\n",
       "    <tr>\n",
       "      <td>5</td>\n",
       "      <td>@teachntech00 New iPad Apps For #SpeechTherapy...</td>\n",
       "      <td>2</td>\n",
       "      <td>1</td>\n",
       "    </tr>\n",
       "    <tr>\n",
       "      <td>16</td>\n",
       "      <td>Holler Gram for iPad on the iTunes App Store -...</td>\n",
       "      <td>2</td>\n",
       "      <td>1</td>\n",
       "    </tr>\n",
       "    <tr>\n",
       "      <td>32</td>\n",
       "      <td>Attn: All  #SXSW frineds, @mention Register fo...</td>\n",
       "      <td>2</td>\n",
       "      <td>1</td>\n",
       "    </tr>\n",
       "    <tr>\n",
       "      <td>33</td>\n",
       "      <td>Anyone at  #sxsw want to sell their old iPad?</td>\n",
       "      <td>2</td>\n",
       "      <td>1</td>\n",
       "    </tr>\n",
       "    <tr>\n",
       "      <td>34</td>\n",
       "      <td>Anyone at  #SXSW who bought the new iPad want ...</td>\n",
       "      <td>2</td>\n",
       "      <td>1</td>\n",
       "    </tr>\n",
       "    <tr>\n",
       "      <td>...</td>\n",
       "      <td>...</td>\n",
       "      <td>...</td>\n",
       "      <td>...</td>\n",
       "    </tr>\n",
       "    <tr>\n",
       "      <td>9087</td>\n",
       "      <td>@mention Yup, but I don't have a third app yet...</td>\n",
       "      <td>2</td>\n",
       "      <td>1</td>\n",
       "    </tr>\n",
       "    <tr>\n",
       "      <td>9089</td>\n",
       "      <td>Wave, buzz... RT @mention We interrupt your re...</td>\n",
       "      <td>2</td>\n",
       "      <td>1</td>\n",
       "    </tr>\n",
       "    <tr>\n",
       "      <td>9090</td>\n",
       "      <td>Google's Zeiger, a physician never reported po...</td>\n",
       "      <td>2</td>\n",
       "      <td>1</td>\n",
       "    </tr>\n",
       "    <tr>\n",
       "      <td>9091</td>\n",
       "      <td>Some Verizon iPhone customers complained their...</td>\n",
       "      <td>2</td>\n",
       "      <td>1</td>\n",
       "    </tr>\n",
       "    <tr>\n",
       "      <td>9092</td>\n",
       "      <td>Ï¡Ïàü_ÊÎÒ£Áââ_£â_ÛâRT @...</td>\n",
       "      <td>2</td>\n",
       "      <td>1</td>\n",
       "    </tr>\n",
       "  </tbody>\n",
       "</table>\n",
       "<p>5444 rows × 3 columns</p>\n",
       "</div>"
      ],
      "text/plain": [
       "                                                   text  direction  sentiment\n",
       "5     @teachntech00 New iPad Apps For #SpeechTherapy...          2          1\n",
       "16    Holler Gram for iPad on the iTunes App Store -...          2          1\n",
       "32    Attn: All  #SXSW frineds, @mention Register fo...          2          1\n",
       "33        Anyone at  #sxsw want to sell their old iPad?          2          1\n",
       "34    Anyone at  #SXSW who bought the new iPad want ...          2          1\n",
       "...                                                 ...        ...        ...\n",
       "9087  @mention Yup, but I don't have a third app yet...          2          1\n",
       "9089  Wave, buzz... RT @mention We interrupt your re...          2          1\n",
       "9090  Google's Zeiger, a physician never reported po...          2          1\n",
       "9091  Some Verizon iPhone customers complained their...          2          1\n",
       "9092  Ï¡Ïàü_ÊÎÒ£Áââ_£â_ÛâRT @...          2          1\n",
       "\n",
       "[5444 rows x 3 columns]"
      ]
     },
     "execution_count": 23,
     "metadata": {},
     "output_type": "execute_result"
    }
   ],
   "source": [
    "#Wherein 1 in sentiment is not having a strong emotion/can't tell, and 2 in direction is a NaN that's been filled \n",
    "neutrals = [1,2]\n",
    "df[(df[['sentiment','direction']].values == neutrals).all(axis=1)]"
   ]
  },
  {
   "cell_type": "code",
   "execution_count": 24,
   "metadata": {
    "ExecuteTime": {
     "end_time": "2020-06-23T14:38:41.308493Z",
     "start_time": "2020-06-23T14:38:41.304929Z"
    }
   },
   "outputs": [
    {
     "data": {
      "text/plain": [
       "9092"
      ]
     },
     "execution_count": 24,
     "metadata": {},
     "output_type": "execute_result"
    }
   ],
   "source": [
    "len(df)"
   ]
  },
  {
   "cell_type": "code",
   "execution_count": 25,
   "metadata": {
    "ExecuteTime": {
     "end_time": "2020-06-23T14:38:41.315888Z",
     "start_time": "2020-06-23T14:38:41.310007Z"
    }
   },
   "outputs": [
    {
     "data": {
      "text/plain": [
       "1    5544\n",
       "2    2978\n",
       "0     570\n",
       "Name: sentiment, dtype: int64"
      ]
     },
     "execution_count": 25,
     "metadata": {},
     "output_type": "execute_result"
    }
   ],
   "source": [
    "df.sentiment.value_counts(dropna=False)"
   ]
  },
  {
   "cell_type": "code",
   "execution_count": 26,
   "metadata": {
    "ExecuteTime": {
     "end_time": "2020-06-23T14:38:41.322695Z",
     "start_time": "2020-06-23T14:38:41.317476Z"
    }
   },
   "outputs": [
    {
     "data": {
      "text/plain": [
       "2    5801\n",
       "0    2409\n",
       "1     882\n",
       "Name: direction, dtype: int64"
      ]
     },
     "execution_count": 26,
     "metadata": {},
     "output_type": "execute_result"
    }
   ],
   "source": [
    "df.direction.value_counts(dropna=False)"
   ]
  },
  {
   "cell_type": "code",
   "execution_count": 27,
   "metadata": {
    "ExecuteTime": {
     "end_time": "2020-06-23T14:38:41.912810Z",
     "start_time": "2020-06-23T14:38:41.324186Z"
    }
   },
   "outputs": [
    {
     "data": {
      "text/plain": [
       "357"
      ]
     },
     "execution_count": 27,
     "metadata": {},
     "output_type": "execute_result"
    }
   ],
   "source": [
    "df.query('@neutrals[0] != sentiment and @neutrals[1] == direction').shape[0]"
   ]
  },
  {
   "cell_type": "markdown",
   "metadata": {},
   "source": [
    "# Shows that the NaNs of direction were entered as a neutral sentiment"
   ]
  },
  {
   "cell_type": "code",
   "execution_count": 28,
   "metadata": {
    "ExecuteTime": {
     "end_time": "2020-06-23T14:38:41.917062Z",
     "start_time": "2020-06-23T14:38:41.914260Z"
    }
   },
   "outputs": [
    {
     "data": {
      "text/plain": [
       "5444"
      ]
     },
     "execution_count": 28,
     "metadata": {},
     "output_type": "execute_result"
    }
   ],
   "source": [
    "5801 - 357"
   ]
  },
  {
   "cell_type": "markdown",
   "metadata": {},
   "source": [
    "# General text preprocessing function"
   ]
  },
  {
   "cell_type": "code",
   "execution_count": 29,
   "metadata": {
    "ExecuteTime": {
     "end_time": "2020-06-23T14:38:41.958060Z",
     "start_time": "2020-06-23T14:38:41.918380Z"
    },
    "colab": {
     "base_uri": "https://localhost:8080/",
     "height": 221
    },
    "colab_type": "code",
    "id": "UDLTdLrFmD1v",
    "outputId": "4ba3f720-f6ff-4ce3-e975-a8279592a0fc"
   },
   "outputs": [
    {
     "data": {
      "text/plain": [
       "0       .@wesley83 I have a 3G iPhone. After 3 hrs twe...\n",
       "1       @jessedee Know about @fludapp ? Awesome iPad/i...\n",
       "2       @swonderlin Can not wait for #iPad 2 also. The...\n",
       "3       @sxsw I hope this year's festival isn't as cra...\n",
       "4       @sxtxstate great stuff on Fri #SXSW: Marissa M...\n",
       "                              ...                        \n",
       "9088                        Ipad everywhere. #SXSW {link}\n",
       "9089    Wave, buzz... RT @mention We interrupt your re...\n",
       "9090    Google's Zeiger, a physician never reported po...\n",
       "9091    Some Verizon iPhone customers complained their...\n",
       "9092    Ï¡Ïàü_ÊÎÒ£Áââ_£â_ÛâRT @...\n",
       "Name: text, Length: 9092, dtype: object"
      ]
     },
     "execution_count": 29,
     "metadata": {},
     "output_type": "execute_result"
    }
   ],
   "source": [
    "def preprocess(text):\n",
    "    text = text.str.replace(\"(<br/>)\", \"\")\n",
    "    text = text.str.replace('(<a).*(>).*(</a>)', '')\n",
    "    text = text.str.replace('(&amp)', '')\n",
    "    text = text.str.replace('(&gt)', '')\n",
    "    text = text.str.replace('(&lt)', '')\n",
    "    text = text.str.replace('(\\xa0)', ' ')  \n",
    "    return text\n",
    "\n",
    "clean_df = df \n",
    "clean_df['text'] = preprocess(clean_df['text'])\n",
    "\n",
    "clean_df['text']"
   ]
  },
  {
   "cell_type": "markdown",
   "metadata": {},
   "source": [
    "# Creating new features"
   ]
  },
  {
   "cell_type": "code",
   "execution_count": 30,
   "metadata": {
    "ExecuteTime": {
     "end_time": "2020-06-23T14:38:41.981644Z",
     "start_time": "2020-06-23T14:38:41.959733Z"
    },
    "colab": {},
    "colab_type": "code",
    "id": "RLQ1-xQKmD1x"
   },
   "outputs": [],
   "source": [
    "clean_df['tweet_len'] = clean_df['text'].astype(str).apply(len)\n",
    "clean_df['tweet_words'] = clean_df['text'].apply(lambda x: len(str(x).split()))"
   ]
  },
  {
   "cell_type": "code",
   "execution_count": 31,
   "metadata": {
    "ExecuteTime": {
     "end_time": "2020-06-23T14:38:41.986397Z",
     "start_time": "2020-06-23T14:38:41.983159Z"
    }
   },
   "outputs": [],
   "source": [
    "def tweet_special_count(string, character):\n",
    "    '''docstring'''\n",
    "    w = string.split()\n",
    "    \n",
    "    char = [word for word in w if word.startswith(character)]\n",
    "    \n",
    "    return len(char)"
   ]
  },
  {
   "cell_type": "code",
   "execution_count": 32,
   "metadata": {
    "ExecuteTime": {
     "end_time": "2020-06-23T14:38:42.123178Z",
     "start_time": "2020-06-23T14:38:41.987985Z"
    }
   },
   "outputs": [
    {
     "data": {
      "text/html": [
       "<div>\n",
       "<style scoped>\n",
       "    .dataframe tbody tr th:only-of-type {\n",
       "        vertical-align: middle;\n",
       "    }\n",
       "\n",
       "    .dataframe tbody tr th {\n",
       "        vertical-align: top;\n",
       "    }\n",
       "\n",
       "    .dataframe thead th {\n",
       "        text-align: right;\n",
       "    }\n",
       "</style>\n",
       "<table border=\"1\" class=\"dataframe\">\n",
       "  <thead>\n",
       "    <tr style=\"text-align: right;\">\n",
       "      <th></th>\n",
       "      <th>text</th>\n",
       "      <th>direction</th>\n",
       "      <th>sentiment</th>\n",
       "      <th>tweet_len</th>\n",
       "      <th>tweet_words</th>\n",
       "      <th>hash_cnt</th>\n",
       "      <th>mention_cnt</th>\n",
       "      <th>capital_words</th>\n",
       "      <th>excl_q_marks</th>\n",
       "    </tr>\n",
       "  </thead>\n",
       "  <tbody>\n",
       "    <tr>\n",
       "      <td>0</td>\n",
       "      <td>.@wesley83 I have a 3G iPhone. After 3 hrs twe...</td>\n",
       "      <td>0</td>\n",
       "      <td>0</td>\n",
       "      <td>127</td>\n",
       "      <td>23</td>\n",
       "      <td>2</td>\n",
       "      <td>0</td>\n",
       "      <td>1</td>\n",
       "      <td>1</td>\n",
       "    </tr>\n",
       "    <tr>\n",
       "      <td>1</td>\n",
       "      <td>@jessedee Know about @fludapp ? Awesome iPad/i...</td>\n",
       "      <td>0</td>\n",
       "      <td>2</td>\n",
       "      <td>139</td>\n",
       "      <td>22</td>\n",
       "      <td>1</td>\n",
       "      <td>2</td>\n",
       "      <td>1</td>\n",
       "      <td>1</td>\n",
       "    </tr>\n",
       "    <tr>\n",
       "      <td>2</td>\n",
       "      <td>@swonderlin Can not wait for #iPad 2 also. The...</td>\n",
       "      <td>0</td>\n",
       "      <td>2</td>\n",
       "      <td>79</td>\n",
       "      <td>15</td>\n",
       "      <td>2</td>\n",
       "      <td>1</td>\n",
       "      <td>1</td>\n",
       "      <td>0</td>\n",
       "    </tr>\n",
       "    <tr>\n",
       "      <td>3</td>\n",
       "      <td>@sxsw I hope this year's festival isn't as cra...</td>\n",
       "      <td>0</td>\n",
       "      <td>0</td>\n",
       "      <td>82</td>\n",
       "      <td>15</td>\n",
       "      <td>1</td>\n",
       "      <td>1</td>\n",
       "      <td>0</td>\n",
       "      <td>0</td>\n",
       "    </tr>\n",
       "    <tr>\n",
       "      <td>4</td>\n",
       "      <td>@sxtxstate great stuff on Fri #SXSW: Marissa M...</td>\n",
       "      <td>1</td>\n",
       "      <td>2</td>\n",
       "      <td>127</td>\n",
       "      <td>17</td>\n",
       "      <td>1</td>\n",
       "      <td>1</td>\n",
       "      <td>1</td>\n",
       "      <td>0</td>\n",
       "    </tr>\n",
       "  </tbody>\n",
       "</table>\n",
       "</div>"
      ],
      "text/plain": [
       "                                                text  direction  sentiment  \\\n",
       "0  .@wesley83 I have a 3G iPhone. After 3 hrs twe...          0          0   \n",
       "1  @jessedee Know about @fludapp ? Awesome iPad/i...          0          2   \n",
       "2  @swonderlin Can not wait for #iPad 2 also. The...          0          2   \n",
       "3  @sxsw I hope this year's festival isn't as cra...          0          0   \n",
       "4  @sxtxstate great stuff on Fri #SXSW: Marissa M...          1          2   \n",
       "\n",
       "   tweet_len  tweet_words  hash_cnt  mention_cnt  capital_words  excl_q_marks  \n",
       "0        127           23         2            0              1             1  \n",
       "1        139           22         1            2              1             1  \n",
       "2         79           15         2            1              1             0  \n",
       "3         82           15         1            1              0             0  \n",
       "4        127           17         1            1              1             0  "
      ]
     },
     "execution_count": 32,
     "metadata": {},
     "output_type": "execute_result"
    }
   ],
   "source": [
    "clean_df['hash_cnt'] = clean_df['text'].apply(lambda x: tweet_special_count(x, '#'))\n",
    "clean_df['mention_cnt'] = clean_df['text'].apply(lambda x: tweet_special_count(x, '@'))\n",
    "clean_df['capital_words'] = clean_df['text'].apply(lambda x: len(re.findall(r'\\b[A-Z]{2,}\\b', x)))\n",
    "clean_df['excl_q_marks'] = clean_df['text'].apply(lambda x: len(re.findall(r'!|\\?', x)))\n",
    "clean_df.head()\n",
    "\n"
   ]
  },
  {
   "cell_type": "code",
   "execution_count": 33,
   "metadata": {
    "ExecuteTime": {
     "end_time": "2020-06-23T14:39:53.793744Z",
     "start_time": "2020-06-23T14:38:42.124998Z"
    }
   },
   "outputs": [
    {
     "data": {
      "text/html": [
       "<div>\n",
       "<style scoped>\n",
       "    .dataframe tbody tr th:only-of-type {\n",
       "        vertical-align: middle;\n",
       "    }\n",
       "\n",
       "    .dataframe tbody tr th {\n",
       "        vertical-align: top;\n",
       "    }\n",
       "\n",
       "    .dataframe thead th {\n",
       "        text-align: right;\n",
       "    }\n",
       "</style>\n",
       "<table border=\"1\" class=\"dataframe\">\n",
       "  <thead>\n",
       "    <tr style=\"text-align: right;\">\n",
       "      <th></th>\n",
       "      <th>text</th>\n",
       "      <th>direction</th>\n",
       "      <th>sentiment</th>\n",
       "      <th>tweet_len</th>\n",
       "      <th>tweet_words</th>\n",
       "      <th>hash_cnt</th>\n",
       "      <th>mention_cnt</th>\n",
       "      <th>capital_words</th>\n",
       "      <th>excl_q_marks</th>\n",
       "      <th>doc</th>\n",
       "    </tr>\n",
       "  </thead>\n",
       "  <tbody>\n",
       "    <tr>\n",
       "      <td>0</td>\n",
       "      <td>.@wesley83 I have a 3G iPhone. After 3 hrs twe...</td>\n",
       "      <td>0</td>\n",
       "      <td>0</td>\n",
       "      <td>127</td>\n",
       "      <td>23</td>\n",
       "      <td>2</td>\n",
       "      <td>0</td>\n",
       "      <td>1</td>\n",
       "      <td>1</td>\n",
       "      <td>(.@wesley83, I, have, a, 3, G, iPhone, ., Afte...</td>\n",
       "    </tr>\n",
       "    <tr>\n",
       "      <td>1</td>\n",
       "      <td>@jessedee Know about @fludapp ? Awesome iPad/i...</td>\n",
       "      <td>0</td>\n",
       "      <td>2</td>\n",
       "      <td>139</td>\n",
       "      <td>22</td>\n",
       "      <td>1</td>\n",
       "      <td>2</td>\n",
       "      <td>1</td>\n",
       "      <td>1</td>\n",
       "      <td>(@jessedee, Know, about, @fludapp, ?, Awesome,...</td>\n",
       "    </tr>\n",
       "    <tr>\n",
       "      <td>2</td>\n",
       "      <td>@swonderlin Can not wait for #iPad 2 also. The...</td>\n",
       "      <td>0</td>\n",
       "      <td>2</td>\n",
       "      <td>79</td>\n",
       "      <td>15</td>\n",
       "      <td>2</td>\n",
       "      <td>1</td>\n",
       "      <td>1</td>\n",
       "      <td>0</td>\n",
       "      <td>(@swonderlin, Can, not, wait, for, #, iPad, 2,...</td>\n",
       "    </tr>\n",
       "    <tr>\n",
       "      <td>3</td>\n",
       "      <td>@sxsw I hope this year's festival isn't as cra...</td>\n",
       "      <td>0</td>\n",
       "      <td>0</td>\n",
       "      <td>82</td>\n",
       "      <td>15</td>\n",
       "      <td>1</td>\n",
       "      <td>1</td>\n",
       "      <td>0</td>\n",
       "      <td>0</td>\n",
       "      <td>(@sxsw, I, hope, this, year, 's, festival, is,...</td>\n",
       "    </tr>\n",
       "    <tr>\n",
       "      <td>4</td>\n",
       "      <td>@sxtxstate great stuff on Fri #SXSW: Marissa M...</td>\n",
       "      <td>1</td>\n",
       "      <td>2</td>\n",
       "      <td>127</td>\n",
       "      <td>17</td>\n",
       "      <td>1</td>\n",
       "      <td>1</td>\n",
       "      <td>1</td>\n",
       "      <td>0</td>\n",
       "      <td>(@sxtxstate, great, stuff, on, Fri, #, SXSW, :...</td>\n",
       "    </tr>\n",
       "  </tbody>\n",
       "</table>\n",
       "</div>"
      ],
      "text/plain": [
       "                                                text  direction  sentiment  \\\n",
       "0  .@wesley83 I have a 3G iPhone. After 3 hrs twe...          0          0   \n",
       "1  @jessedee Know about @fludapp ? Awesome iPad/i...          0          2   \n",
       "2  @swonderlin Can not wait for #iPad 2 also. The...          0          2   \n",
       "3  @sxsw I hope this year's festival isn't as cra...          0          0   \n",
       "4  @sxtxstate great stuff on Fri #SXSW: Marissa M...          1          2   \n",
       "\n",
       "   tweet_len  tweet_words  hash_cnt  mention_cnt  capital_words  excl_q_marks  \\\n",
       "0        127           23         2            0              1             1   \n",
       "1        139           22         1            2              1             1   \n",
       "2         79           15         2            1              1             0   \n",
       "3         82           15         1            1              0             0   \n",
       "4        127           17         1            1              1             0   \n",
       "\n",
       "                                                 doc  \n",
       "0  (.@wesley83, I, have, a, 3, G, iPhone, ., Afte...  \n",
       "1  (@jessedee, Know, about, @fludapp, ?, Awesome,...  \n",
       "2  (@swonderlin, Can, not, wait, for, #, iPad, 2,...  \n",
       "3  (@sxsw, I, hope, this, year, 's, festival, is,...  \n",
       "4  (@sxtxstate, great, stuff, on, Fri, #, SXSW, :...  "
      ]
     },
     "execution_count": 33,
     "metadata": {},
     "output_type": "execute_result"
    }
   ],
   "source": [
    "# clean_df['doc'] = df['text'].apply(lambda x: nlp(x))\n",
    "\n",
    "# clean_df.head()"
   ]
  },
  {
   "cell_type": "code",
   "execution_count": 34,
   "metadata": {
    "ExecuteTime": {
     "end_time": "2020-06-23T14:40:25.786260Z",
     "start_time": "2020-06-23T14:39:53.795812Z"
    }
   },
   "outputs": [
    {
     "data": {
      "text/plain": [
       "[('Apple', 1239),\n",
       " ('iPhone', 947),\n",
       " ('SXSW', 923),\n",
       " ('Google', 801),\n",
       " ('Austin', 675),\n",
       " ('2', 495),\n",
       " ('Circles', 359),\n",
       " ('#sxsw #', 353),\n",
       " ('sxsw', 346),\n",
       " ('today', 301),\n",
       " ('#SXSW #', 261),\n",
       " ('Android', 259),\n",
       " ('Today', 232),\n",
       " ('Launch Major New Social Network', 146),\n",
       " ('#sxsw', 138),\n",
       " ('RT @mention', 131),\n",
       " ('Marissa Mayer', 119),\n",
       " ('SxSW', 116),\n",
       " (\"'RT @mention\", 109),\n",
       " ('iPad2', 99)]"
      ]
     },
     "execution_count": 34,
     "metadata": {},
     "output_type": "execute_result"
    }
   ],
   "source": [
    "# from collections import Counter\n",
    "# tokens = nlp(''.join(str(df.text.tolist())))\n",
    "# items = [x.text for x in tokens.ents]\n",
    "# Counter(items).most_common(20)"
   ]
  },
  {
   "cell_type": "code",
   "execution_count": 35,
   "metadata": {
    "ExecuteTime": {
     "end_time": "2020-06-23T14:40:26.450736Z",
     "start_time": "2020-06-23T14:40:25.789275Z"
    }
   },
   "outputs": [
    {
     "data": {
      "image/png": "[encoded data removed]",
      "text/plain": [
       "<Figure size 748.8x514.8 with 1 Axes>"
      ]
     },
     "metadata": {
      "needs_background": "light"
     },
     "output_type": "display_data"
    },
    {
     "data": {
      "text/plain": [
       "<Figure size 748.8x514.8 with 0 Axes>"
      ]
     },
     "metadata": {},
     "output_type": "display_data"
    }
   ],
   "source": [
    "# products = []\n",
    "# for ent in tokens.ents:\n",
    "#     if ent.label_ == 'PRODUCT':\n",
    "#         products.append(ent.text)\n",
    "        \n",
    "# prdct_cnt = Counter(products).most_common(20)\n",
    "# df_prod = pd.DataFrame(prdct_cnt, columns =['text', 'count'])\n",
    "\n",
    "# df_prod.plot.barh(x='text', y='count', title=\"Most Common Products Mentioned\").invert_yaxis()\n",
    "# plt.show()\n",
    "# plt.savefig('common_products.png')"
   ]
  },
  {
   "cell_type": "code",
   "execution_count": 36,
   "metadata": {
    "ExecuteTime": {
     "end_time": "2020-06-23T14:40:27.803593Z",
     "start_time": "2020-06-23T14:40:26.452657Z"
    },
    "colab": {
     "base_uri": "https://localhost:8080/",
     "height": 476
    },
    "colab_type": "code",
    "id": "z8O1u84_0ejz",
    "outputId": "76daea88-eb08-4e46-dc39-0c213ba536f2"
   },
   "outputs": [
    {
     "data": {
      "image/png": "[encoded data removed]",
      "text/plain": [
       "<Figure size 748.8x514.8 with 6 Axes>"
      ]
     },
     "metadata": {
      "needs_background": "light"
     },
     "output_type": "display_data"
    }
   ],
   "source": [
    "fig, axs = plt.subplots(ncols=2, nrows=3)\n",
    "sns.distplot(clean_df['tweet_len'], ax=axs[0][0])\n",
    "sns.distplot(clean_df['tweet_words'], ax=axs[0][1])\n",
    "sns.distplot(clean_df['hash_cnt'], ax=axs[1][0])\n",
    "sns.distplot(clean_df['mention_cnt'], ax=axs[1][1])\n",
    "sns.distplot(clean_df['capital_words'], ax=axs[2][0])\n",
    "sns.distplot(clean_df['excl_q_marks'], ax=axs[2][1])\n",
    "\n",
    "plt.tight_layout()"
   ]
  },
  {
   "cell_type": "code",
   "execution_count": 37,
   "metadata": {
    "ExecuteTime": {
     "end_time": "2020-06-23T14:40:28.316981Z",
     "start_time": "2020-06-23T14:40:27.805836Z"
    }
   },
   "outputs": [
    {
     "data": {
      "text/plain": [
       "0       [., @wesley83, I, have, a, 3G, iPhone, ., Afte...\n",
       "1       [@jessedee, Know, about, @fludapp, ?, Awesome,...\n",
       "2       [@swonderlin, Can, not, wait, for, #iPad, 2, a...\n",
       "3       [@sxsw, I, hope, this, year's, festival, isn't...\n",
       "4       [@sxtxstate, great, stuff, on, Fri, #SXSW, :, ...\n",
       "                              ...                        \n",
       "9088             [Ipad, everywhere, ., #SXSW, {, link, }]\n",
       "9089    [Wave, ,, buzz, ..., RT, @mention, We, interru...\n",
       "9090    [Google's, Zeiger, ,, a, physician, never, rep...\n",
       "9091    [Some, Verizon, iPhone, customers, complained,...\n",
       "9092    [, Ï, ¡, , Ïà, , ü_, , , Ê, , , Î, , ...\n",
       "Name: text, Length: 9092, dtype: object"
      ]
     },
     "execution_count": 37,
     "metadata": {},
     "output_type": "execute_result"
    }
   ],
   "source": [
    "from nltk.tokenize import TweetTokenizer\n",
    "tt = TweetTokenizer()\n",
    "clean_df['text'].apply(tt.tokenize)"
   ]
  },
  {
   "cell_type": "code",
   "execution_count": 38,
   "metadata": {
    "ExecuteTime": {
     "end_time": "2020-06-23T14:40:28.503498Z",
     "start_time": "2020-06-23T14:40:28.318872Z"
    },
    "colab": {
     "base_uri": "https://localhost:8080/",
     "height": 51
    },
    "colab_type": "code",
    "id": "wIPlrZpFmD19",
    "outputId": "4d3f25df-9b9d-420e-dc3f-9884d027b50e"
   },
   "outputs": [
    {
     "name": "stderr",
     "output_type": "stream",
     "text": [
      "[nltk_data] Downloading package stopwords to\n",
      "[nltk_data]     /Users/michaelburak/nltk_data...\n",
      "[nltk_data]   Package stopwords is already up-to-date!\n"
     ]
    }
   ],
   "source": [
    "from nltk.corpus import stopwords\n",
    "nltk.download('stopwords')\n",
    "stopwords_list = stopwords.words('english')"
   ]
  },
  {
   "cell_type": "code",
   "execution_count": 39,
   "metadata": {
    "ExecuteTime": {
     "end_time": "2020-06-23T14:40:28.530731Z",
     "start_time": "2020-06-23T14:40:28.505194Z"
    },
    "colab": {
     "base_uri": "https://localhost:8080/",
     "height": 34
    },
    "colab_type": "code",
    "id": "2uCmCM-kmD1_",
    "outputId": "4d89481d-f54b-4499-e625-52530b71da0b"
   },
   "outputs": [
    {
     "data": {
      "text/plain": [
       "0       .@wesley83 i have a 3g iphone. after 3 hrs twe...\n",
       "1       @jessedee know about @fludapp ? awesome ipad/i...\n",
       "2       @swonderlin can not wait for #ipad 2 also. the...\n",
       "3       @sxsw i hope this year's festival isn't as cra...\n",
       "4       @sxtxstate great stuff on fri #sxsw: marissa m...\n",
       "                              ...                        \n",
       "9088                        ipad everywhere. #sxsw {link}\n",
       "9089    wave, buzz... rt @mention we interrupt your re...\n",
       "9090    google's zeiger, a physician never reported po...\n",
       "9091    some verizon iphone customers complained their...\n",
       "9092    ï¡ïàü_êîò£áââ_£â_ûârt @...\n",
       "Name: text, Length: 9092, dtype: object"
      ]
     },
     "execution_count": 39,
     "metadata": {},
     "output_type": "execute_result"
    }
   ],
   "source": [
    "clean_df['text'] = [word.lower() for word in clean_df['text'] if word.lower() not in stopwords_list]\n",
    "\n",
    "clean_df['text']"
   ]
  },
  {
   "cell_type": "markdown",
   "metadata": {
    "ExecuteTime": {
     "end_time": "2020-06-03T01:44:00.769492Z",
     "start_time": "2020-06-03T01:44:00.767624Z"
    },
    "colab_type": "text",
    "id": "SXX4943VmD2D"
   },
   "source": [
    "## TO DO: T-sne"
   ]
  },
  {
   "cell_type": "code",
   "execution_count": 40,
   "metadata": {
    "ExecuteTime": {
     "end_time": "2020-06-23T14:40:28.553393Z",
     "start_time": "2020-06-23T14:40:28.532536Z"
    },
    "colab": {},
    "colab_type": "code",
    "id": "pgcBdkbHuo8K"
   },
   "outputs": [],
   "source": [
    "from wordcloud import WordCloud"
   ]
  },
  {
   "cell_type": "code",
   "execution_count": 41,
   "metadata": {
    "ExecuteTime": {
     "end_time": "2020-06-23T14:40:29.304947Z",
     "start_time": "2020-06-23T14:40:28.555955Z"
    },
    "colab": {
     "base_uri": "https://localhost:8080/",
     "height": 217
    },
    "colab_type": "code",
    "id": "aupA1X9ZupF6",
    "outputId": "8019f2a4-25e5-4d9f-a14d-d518e02ee1f2"
   },
   "outputs": [
    {
     "data": {
      "image/png": "[encoded data removed]",
      "text/plain": [
       "<PIL.Image.Image image mode=RGB size=400x200 at 0x166539B70>"
      ]
     },
     "execution_count": 41,
     "metadata": {},
     "output_type": "execute_result"
    }
   ],
   "source": [
    "wordcloud = WordCloud(background_color=\"white\", max_words=5000, contour_width=3, contour_color='steelblue')\n",
    "\n",
    "wordcloud.generate(clean_df['text'].to_string())\n",
    "\n",
    "wordcloud.to_image()"
   ]
  },
  {
   "cell_type": "code",
   "execution_count": 42,
   "metadata": {
    "ExecuteTime": {
     "end_time": "2020-06-23T14:40:29.308584Z",
     "start_time": "2020-06-23T14:40:29.306505Z"
    },
    "colab": {},
    "colab_type": "code",
    "id": "fVAMGLawyLrT"
   },
   "outputs": [],
   "source": [
    "#LDA would go here"
   ]
  },
  {
   "cell_type": "markdown",
   "metadata": {
    "colab_type": "text",
    "id": "mf1umbcdmD2E"
   },
   "source": [
    "# Modeling - needs model comparison/tuning"
   ]
  },
  {
   "cell_type": "code",
   "execution_count": 43,
   "metadata": {
    "ExecuteTime": {
     "end_time": "2020-06-23T14:40:29.331875Z",
     "start_time": "2020-06-23T14:40:29.310454Z"
    },
    "colab": {},
    "colab_type": "code",
    "id": "MtZ5X5DzgOdh"
   },
   "outputs": [],
   "source": [
    "from sklearn_pandas import DataFrameMapper, cross_val_score\n",
    "from sklearn.ensemble import RandomForestClassifier"
   ]
  },
  {
   "cell_type": "code",
   "execution_count": 44,
   "metadata": {
    "ExecuteTime": {
     "end_time": "2020-06-23T14:40:29.336674Z",
     "start_time": "2020-06-23T14:40:29.333782Z"
    },
    "colab": {},
    "colab_type": "code",
    "id": "24tADuEQhBAV"
   },
   "outputs": [],
   "source": [
    "mapper = DataFrameMapper([\n",
    "     ('text', TfidfVectorizer()),\n",
    "     ('direction', None),\n",
    "     ('tweet_len', None),\n",
    "     ('tweet_words', None),\n",
    " ])"
   ]
  },
  {
   "cell_type": "code",
   "execution_count": 45,
   "metadata": {
    "ExecuteTime": {
     "end_time": "2020-06-23T14:40:29.694764Z",
     "start_time": "2020-06-23T14:40:29.338673Z"
    },
    "colab": {},
    "colab_type": "code",
    "id": "1vXRNLsAhBSA"
   },
   "outputs": [],
   "source": [
    "X = mapper.fit_transform(clean_df)"
   ]
  },
  {
   "cell_type": "code",
   "execution_count": 46,
   "metadata": {
    "ExecuteTime": {
     "end_time": "2020-06-23T14:40:29.701441Z",
     "start_time": "2020-06-23T14:40:29.696632Z"
    }
   },
   "outputs": [
    {
     "data": {
      "text/plain": [
       "array([[  0.,   0.,   0., ...,   0., 127.,  23.],\n",
       "       [  0.,   0.,   0., ...,   0., 139.,  22.],\n",
       "       [  0.,   0.,   0., ...,   0.,  79.,  15.],\n",
       "       ...,\n",
       "       [  0.,   0.,   0., ...,   2., 145.,  19.],\n",
       "       [  0.,   0.,   0., ...,   2., 140.,  23.],\n",
       "       [  0.,   0.,   0., ...,   2., 104.,   9.]])"
      ]
     },
     "execution_count": 46,
     "metadata": {},
     "output_type": "execute_result"
    }
   ],
   "source": [
    "X"
   ]
  },
  {
   "cell_type": "code",
   "execution_count": 47,
   "metadata": {
    "ExecuteTime": {
     "end_time": "2020-06-23T14:40:29.708998Z",
     "start_time": "2020-06-23T14:40:29.703305Z"
    }
   },
   "outputs": [
    {
     "data": {
      "text/plain": [
       "2    5801\n",
       "0    2409\n",
       "1     882\n",
       "Name: direction, dtype: int64"
      ]
     },
     "execution_count": 47,
     "metadata": {},
     "output_type": "execute_result"
    }
   ],
   "source": [
    "clean_df.direction.value_counts(dropna=False)"
   ]
  },
  {
   "cell_type": "code",
   "execution_count": 48,
   "metadata": {
    "ExecuteTime": {
     "end_time": "2020-06-23T14:40:29.721345Z",
     "start_time": "2020-06-23T14:40:29.710646Z"
    }
   },
   "outputs": [
    {
     "data": {
      "text/plain": [
       "0    2409\n",
       "1     882\n",
       "Name: direction, dtype: int64"
      ]
     },
     "execution_count": 48,
     "metadata": {},
     "output_type": "execute_result"
    }
   ],
   "source": [
    "df_posneg = clean_df.copy()\n",
    "df_posneg = df_posneg[df_posneg.direction !=2]\n",
    "\n",
    "df_posneg.direction.value_counts(dropna=False)"
   ]
  },
  {
   "cell_type": "code",
   "execution_count": 49,
   "metadata": {
    "ExecuteTime": {
     "end_time": "2020-06-23T14:40:29.858219Z",
     "start_time": "2020-06-23T14:40:29.723448Z"
    }
   },
   "outputs": [
    {
     "data": {
      "text/plain": [
       "array([[  0.,   0.,   0., ...,   0., 127.,  23.],\n",
       "       [  0.,   0.,   0., ...,   0., 139.,  22.],\n",
       "       [  0.,   0.,   0., ...,   0.,  79.,  15.],\n",
       "       ...,\n",
       "       [  0.,   0.,   0., ...,   1., 133.,  21.],\n",
       "       [  0.,   0.,   0., ...,   0., 137.,  25.],\n",
       "       [  0.,   0.,   0., ...,   0.,  29.,   4.]])"
      ]
     },
     "execution_count": 49,
     "metadata": {},
     "output_type": "execute_result"
    }
   ],
   "source": [
    "mapped_pn = mapper.fit_transform(df_posneg)\n",
    "mapped_pn"
   ]
  },
  {
   "cell_type": "code",
   "execution_count": 50,
   "metadata": {
    "ExecuteTime": {
     "end_time": "2020-06-23T14:40:29.862671Z",
     "start_time": "2020-06-23T14:40:29.860143Z"
    }
   },
   "outputs": [],
   "source": [
    "X_posneg = mapped_pn\n",
    "y_posneg = df_posneg['sentiment']"
   ]
  },
  {
   "cell_type": "markdown",
   "metadata": {},
   "source": [
    "# Train test splits"
   ]
  },
  {
   "cell_type": "code",
   "execution_count": 51,
   "metadata": {
    "ExecuteTime": {
     "end_time": "2020-06-23T14:40:30.439284Z",
     "start_time": "2020-06-23T14:40:29.864675Z"
    },
    "colab": {},
    "colab_type": "code",
    "id": "x3zB_hhImD2E"
   },
   "outputs": [],
   "source": [
    "from sklearn.model_selection import train_test_split\n",
    "from sklearn.feature_extraction.text import TfidfTransformer\n",
    "from sklearn.naive_bayes import MultinomialNB\n",
    "y = clean_df['sentiment']\n",
    "X_train, X_test, y_train, y_test = train_test_split(X, y, test_size=0.33, random_state=42,stratify=y)"
   ]
  },
  {
   "cell_type": "markdown",
   "metadata": {},
   "source": [
    "## Train test split for positive and negative only"
   ]
  },
  {
   "cell_type": "code",
   "execution_count": 52,
   "metadata": {
    "ExecuteTime": {
     "end_time": "2020-06-23T14:40:30.557240Z",
     "start_time": "2020-06-23T14:40:30.441211Z"
    }
   },
   "outputs": [],
   "source": [
    "X_train_posneg, X_test_posneg, y_train_posneg, y_test_posneg = train_test_split(X_posneg, y_posneg, test_size=0.33, random_state=42,stratify=y_posneg)"
   ]
  },
  {
   "cell_type": "markdown",
   "metadata": {},
   "source": [
    "# PCA train_test split"
   ]
  },
  {
   "cell_type": "code",
   "execution_count": 53,
   "metadata": {
    "ExecuteTime": {
     "end_time": "2020-06-23T14:40:34.566690Z",
     "start_time": "2020-06-23T14:40:30.559870Z"
    }
   },
   "outputs": [],
   "source": [
    "from sklearn.decomposition import PCA\n",
    "pca = PCA(n_components=2)\n",
    "X_pca = X\n",
    "pca.fit(X_pca)\n",
    "\n",
    "X_train_pca, X_test_pca, y_train_pca, y_test_pca = train_test_split(X_pca, y, test_size=0.33, random_state=42,stratify=y)"
   ]
  },
  {
   "cell_type": "markdown",
   "metadata": {},
   "source": [
    "## Comparing class balance between full dataset and dataset without NaN products"
   ]
  },
  {
   "cell_type": "code",
   "execution_count": 54,
   "metadata": {
    "ExecuteTime": {
     "end_time": "2020-06-23T14:40:34.706487Z",
     "start_time": "2020-06-23T14:40:34.569004Z"
    },
    "scrolled": false
   },
   "outputs": [
    {
     "data": {
      "image/png": "[encoded data removed]",
      "text/plain": [
       "<Figure size 748.8x514.8 with 1 Axes>"
      ]
     },
     "metadata": {
      "needs_background": "light"
     },
     "output_type": "display_data"
    },
    {
     "data": {
      "text/plain": [
       "<matplotlib.axes._subplots.AxesSubplot at 0x16670eac8>"
      ]
     },
     "execution_count": 54,
     "metadata": {},
     "output_type": "execute_result"
    }
   ],
   "source": [
    "from yellowbrick.target import ClassBalance\n",
    "visualizer = ClassBalance(labels=[\"Negative\", \"Neutral\", \"Positive\"])\n",
    "\n",
    "visualizer.fit(y_train)        # Fit the data to the visualizer\n",
    "visualizer.show()"
   ]
  },
  {
   "cell_type": "code",
   "execution_count": 55,
   "metadata": {
    "ExecuteTime": {
     "end_time": "2020-06-23T14:40:34.843889Z",
     "start_time": "2020-06-23T14:40:34.707913Z"
    }
   },
   "outputs": [
    {
     "data": {
      "image/png": "[encoded data removed]",
      "text/plain": [
       "<Figure size 748.8x514.8 with 1 Axes>"
      ]
     },
     "metadata": {
      "needs_background": "light"
     },
     "output_type": "display_data"
    },
    {
     "data": {
      "text/plain": [
       "<matplotlib.axes._subplots.AxesSubplot at 0x1627082e8>"
      ]
     },
     "execution_count": 55,
     "metadata": {},
     "output_type": "execute_result"
    }
   ],
   "source": [
    "from yellowbrick.target import ClassBalance\n",
    "visualizer = ClassBalance(labels=[\"Negative\", \"Neutral\", \"Positive\"])\n",
    "\n",
    "visualizer.fit(y_train_posneg)        # Fit the data to the visualizer\n",
    "visualizer.show()"
   ]
  },
  {
   "cell_type": "markdown",
   "metadata": {},
   "source": [
    "# Multinomial NB Base Model for Comparison"
   ]
  },
  {
   "cell_type": "code",
   "execution_count": 56,
   "metadata": {
    "ExecuteTime": {
     "end_time": "2020-06-23T14:40:35.081849Z",
     "start_time": "2020-06-23T14:40:34.845818Z"
    },
    "colab": {},
    "colab_type": "code",
    "id": "SkGhtN45TzMs"
   },
   "outputs": [],
   "source": [
    "model = MultinomialNB()\n",
    "model.fit(X_train, y_train)\n",
    "y_pred = model.predict(X_test)"
   ]
  },
  {
   "cell_type": "code",
   "execution_count": 57,
   "metadata": {
    "ExecuteTime": {
     "end_time": "2020-06-23T14:40:35.099099Z",
     "start_time": "2020-06-23T14:40:35.084354Z"
    },
    "colab": {
     "base_uri": "https://localhost:8080/",
     "height": 241
    },
    "colab_type": "code",
    "id": "MzJY_jm7mD2U",
    "outputId": "f6151feb-e2db-45ab-f95d-8a3661011649"
   },
   "outputs": [
    {
     "name": "stdout",
     "output_type": "stream",
     "text": [
      "              precision    recall  f1-score   support\n",
      "\n",
      "           0       0.00      0.00      0.00       188\n",
      "           1       0.68      1.00      0.81      1830\n",
      "           2       0.86      0.28      0.42       983\n",
      "\n",
      "    accuracy                           0.70      3001\n",
      "   macro avg       0.51      0.43      0.41      3001\n",
      "weighted avg       0.70      0.70      0.63      3001\n",
      "\n"
     ]
    },
    {
     "name": "stderr",
     "output_type": "stream",
     "text": [
      "/Users/michaelburak/opt/anaconda3/envs/learn-env/lib/python3.6/site-packages/sklearn/metrics/_classification.py:1221: UndefinedMetricWarning: Precision and F-score are ill-defined and being set to 0.0 in labels with no predicted samples. Use `zero_division` parameter to control this behavior.\n",
      "  _warn_prf(average, modifier, msg_start, len(result))\n"
     ]
    }
   ],
   "source": [
    "print(metrics.classification_report(y_test,y_pred))"
   ]
  },
  {
   "cell_type": "code",
   "execution_count": 58,
   "metadata": {
    "ExecuteTime": {
     "end_time": "2020-06-23T14:40:35.106165Z",
     "start_time": "2020-06-23T14:40:35.101436Z"
    }
   },
   "outputs": [
    {
     "name": "stdout",
     "output_type": "stream",
     "text": [
      "0.2999000333222259\n"
     ]
    }
   ],
   "source": [
    "from sklearn.metrics import hamming_loss\n",
    "print(hamming_loss(y_test, y_pred))"
   ]
  },
  {
   "cell_type": "code",
   "execution_count": 59,
   "metadata": {
    "ExecuteTime": {
     "end_time": "2020-06-23T14:40:35.117845Z",
     "start_time": "2020-06-23T14:40:35.108627Z"
    }
   },
   "outputs": [
    {
     "name": "stdout",
     "output_type": "stream",
     "text": [
      "0.2866194865477496\n"
     ]
    }
   ],
   "source": [
    "from sklearn.metrics import cohen_kappa_score\n",
    "print(cohen_kappa_score(y_test, y_pred))"
   ]
  },
  {
   "cell_type": "code",
   "execution_count": 60,
   "metadata": {
    "ExecuteTime": {
     "end_time": "2020-06-23T14:40:35.129614Z",
     "start_time": "2020-06-23T14:40:35.120023Z"
    }
   },
   "outputs": [
    {
     "name": "stdout",
     "output_type": "stream",
     "text": [
      "F0.5 of 0 class is 0.0\n",
      "F2 of 0 class is 0.0\n",
      "-----------\n",
      "F0.5 of 1 class is 0.7266932270916334\n",
      "F2 of 1 class is 0.912\n",
      "-----------\n",
      "F0.5 of 2 class is 0.6109395677106307\n",
      "F2 of 2 class is 0.32565248060192803\n",
      "-----------\n"
     ]
    }
   ],
   "source": [
    "from sklearn.metrics import fbeta_score\n",
    "\n",
    "def fscores(y_test=y_test, y_pred=y_pred):\n",
    "    f05 = fbeta_score(y_test, y_pred, average=None, beta=0.5, labels=[0,1,2])\n",
    "    f2 = fbeta_score(y_test, y_pred, average=None, beta=2.0, labels=[0,1,2])\n",
    "    for idx,c in enumerate(f05):\n",
    "        print (f'F0.5 of {idx} class is {f05[idx]}')\n",
    "        print (f'F2 of {idx} class is {f2[idx]}')\n",
    "        print ('-----------')\n",
    "\n",
    "fscores()\n",
    "\n",
    "# from sklearn.metrics import fbeta_score\n",
    "# f05 = fbeta_score(y_test, y_pred, average=None, beta=0.5, labels=[0,1,2])\n",
    "# f2 = fbeta_score(y_test, y_pred, average=None, beta=2.0, labels=[0,1,2])\n",
    "\n",
    "# for idx,c in enumerate(f05):\n",
    "#     print (f'F0.5 of {idx} class is {fb[idx]}')\n",
    "#     print (f'F2 of {idx} class is {f2[idx]}')\n",
    "#     print ('-----------')"
   ]
  },
  {
   "cell_type": "markdown",
   "metadata": {},
   "source": [
    "## Modeling without no product tweets"
   ]
  },
  {
   "cell_type": "code",
   "execution_count": 61,
   "metadata": {
    "ExecuteTime": {
     "end_time": "2020-06-23T14:40:35.177514Z",
     "start_time": "2020-06-23T14:40:35.131823Z"
    }
   },
   "outputs": [],
   "source": [
    "model = MultinomialNB()\n",
    "model.fit(X_train_posneg, y_train_posneg)\n",
    "y_pred_posneg = model.predict(X_test_posneg)"
   ]
  },
  {
   "cell_type": "code",
   "execution_count": 62,
   "metadata": {
    "ExecuteTime": {
     "end_time": "2020-06-23T14:40:35.189600Z",
     "start_time": "2020-06-23T14:40:35.179702Z"
    }
   },
   "outputs": [
    {
     "name": "stdout",
     "output_type": "stream",
     "text": [
      "              precision    recall  f1-score   support\n",
      "\n",
      "           0       0.00      0.00      0.00       171\n",
      "           1       0.00      0.00      0.00        33\n",
      "           2       0.81      1.00      0.90       883\n",
      "\n",
      "    accuracy                           0.81      1087\n",
      "   macro avg       0.27      0.33      0.30      1087\n",
      "weighted avg       0.66      0.81      0.73      1087\n",
      "\n"
     ]
    },
    {
     "name": "stderr",
     "output_type": "stream",
     "text": [
      "/Users/michaelburak/opt/anaconda3/envs/learn-env/lib/python3.6/site-packages/sklearn/metrics/_classification.py:1221: UndefinedMetricWarning: Precision and F-score are ill-defined and being set to 0.0 in labels with no predicted samples. Use `zero_division` parameter to control this behavior.\n",
      "  _warn_prf(average, modifier, msg_start, len(result))\n"
     ]
    }
   ],
   "source": [
    "print(metrics.classification_report(y_test_posneg,y_pred_posneg))"
   ]
  },
  {
   "cell_type": "code",
   "execution_count": 63,
   "metadata": {
    "ExecuteTime": {
     "end_time": "2020-06-23T14:40:35.196689Z",
     "start_time": "2020-06-23T14:40:35.191776Z"
    }
   },
   "outputs": [
    {
     "name": "stdout",
     "output_type": "stream",
     "text": [
      "0.18767249310027598\n"
     ]
    }
   ],
   "source": [
    "from sklearn.metrics import hamming_loss\n",
    "print(hamming_loss(y_test_posneg, y_pred_posneg))"
   ]
  },
  {
   "cell_type": "code",
   "execution_count": 65,
   "metadata": {
    "ExecuteTime": {
     "end_time": "2020-06-23T14:41:26.693932Z",
     "start_time": "2020-06-23T14:41:26.688721Z"
    }
   },
   "outputs": [
    {
     "name": "stdout",
     "output_type": "stream",
     "text": [
      "0.0\n"
     ]
    }
   ],
   "source": [
    "from sklearn.metrics import cohen_kappa_score\n",
    "print(cohen_kappa_score(y_test_posneg, y_pred_posneg))"
   ]
  },
  {
   "cell_type": "code",
   "execution_count": 66,
   "metadata": {
    "ExecuteTime": {
     "end_time": "2020-06-23T14:41:31.150672Z",
     "start_time": "2020-06-23T14:41:31.144026Z"
    }
   },
   "outputs": [
    {
     "name": "stdout",
     "output_type": "stream",
     "text": [
      "F0.5 of 0 class is 0.0\n",
      "F2 of 0 class is 0.0\n",
      "-----------\n",
      "F0.5 of 1 class is 0.0\n",
      "F2 of 1 class is 0.0\n",
      "-----------\n",
      "F0.5 of 2 class is 0.8440068820493213\n",
      "F2 of 2 class is 0.9558345962329508\n",
      "-----------\n"
     ]
    }
   ],
   "source": [
    "fscores(y_test_posneg, y_pred_posneg)"
   ]
  },
  {
   "cell_type": "markdown",
   "metadata": {},
   "source": [
    "# SMOTE on full dataset"
   ]
  },
  {
   "cell_type": "code",
   "execution_count": 67,
   "metadata": {
    "ExecuteTime": {
     "end_time": "2020-06-23T14:41:41.930226Z",
     "start_time": "2020-06-23T14:41:34.293265Z"
    },
    "colab": {
     "base_uri": "https://localhost:8080/",
     "height": 173
    },
    "colab_type": "code",
    "id": "kJc2vRAcmSaj",
    "outputId": "c9958fb2-9f87-4eab-e247-5e0bad8d25d4"
   },
   "outputs": [
    {
     "name": "stderr",
     "output_type": "stream",
     "text": [
      "/Users/michaelburak/opt/anaconda3/envs/learn-env/lib/python3.6/site-packages/sklearn/utils/deprecation.py:143: FutureWarning: The sklearn.neighbors.base module is  deprecated in version 0.22 and will be removed in version 0.24. The corresponding classes / functions should instead be imported from sklearn.neighbors. Anything that cannot be imported from sklearn.neighbors is now part of the private API.\n",
      "  warnings.warn(message, FutureWarning)\n",
      "/Users/michaelburak/opt/anaconda3/envs/learn-env/lib/python3.6/site-packages/sklearn/utils/deprecation.py:86: FutureWarning: Function safe_indexing is deprecated; safe_indexing is deprecated in version 0.22 and will be removed in version 0.24.\n",
      "  warnings.warn(msg, category=FutureWarning)\n",
      "/Users/michaelburak/opt/anaconda3/envs/learn-env/lib/python3.6/site-packages/sklearn/utils/deprecation.py:86: FutureWarning: Function safe_indexing is deprecated; safe_indexing is deprecated in version 0.22 and will be removed in version 0.24.\n",
      "  warnings.warn(msg, category=FutureWarning)\n"
     ]
    },
    {
     "name": "stdout",
     "output_type": "stream",
     "text": [
      "1    3714\n",
      "2    1995\n",
      "0     382\n",
      "Name: sentiment, dtype: int64 [3714 3714 3714]\n"
     ]
    }
   ],
   "source": [
    "import six\n",
    "import sys\n",
    "sys.modules['sklearn.externals.six'] = six\n",
    "from imblearn.over_sampling import SMOTE\n",
    "# import six \n",
    "sm = SMOTE(random_state=12)\n",
    "x_train_res, y_train_res = sm.fit_sample(X_train, y_train)\n",
    "print (y_train.value_counts() , np.bincount(y_train_res))"
   ]
  },
  {
   "cell_type": "code",
   "execution_count": 68,
   "metadata": {
    "ExecuteTime": {
     "end_time": "2020-06-23T14:41:42.077769Z",
     "start_time": "2020-06-23T14:41:41.932565Z"
    }
   },
   "outputs": [
    {
     "data": {
      "image/png": "[encoded data removed]",
      "text/plain": [
       "<Figure size 748.8x514.8 with 1 Axes>"
      ]
     },
     "metadata": {
      "needs_background": "light"
     },
     "output_type": "display_data"
    },
    {
     "data": {
      "text/plain": [
       "<matplotlib.axes._subplots.AxesSubplot at 0x1667c8710>"
      ]
     },
     "execution_count": 68,
     "metadata": {},
     "output_type": "execute_result"
    }
   ],
   "source": [
    "from yellowbrick.target import ClassBalance\n",
    "visualizer = ClassBalance(labels=[\"Negative\", \"Neutral\", \"Positive\"])\n",
    "\n",
    "visualizer.fit(y_train_res)        # Fit the data to the visualizer\n",
    "visualizer.show()"
   ]
  },
  {
   "cell_type": "markdown",
   "metadata": {},
   "source": [
    "# Multinomial NB on SMOTE"
   ]
  },
  {
   "cell_type": "code",
   "execution_count": 69,
   "metadata": {
    "ExecuteTime": {
     "end_time": "2020-06-23T14:41:42.345922Z",
     "start_time": "2020-06-23T14:41:42.079958Z"
    },
    "colab": {
     "base_uri": "https://localhost:8080/",
     "height": 187
    },
    "colab_type": "code",
    "id": "r2GaWIqomVE7",
    "outputId": "47a43cd5-49dc-40c9-ad21-dbba40480633",
    "scrolled": true
   },
   "outputs": [
    {
     "name": "stdout",
     "output_type": "stream",
     "text": [
      "              precision    recall  f1-score   support\n",
      "\n",
      "           0       0.42      0.64      0.51       188\n",
      "           1       0.88      0.96      0.92      1830\n",
      "           2       0.91      0.68      0.78       983\n",
      "\n",
      "    accuracy                           0.84      3001\n",
      "   macro avg       0.74      0.76      0.73      3001\n",
      "weighted avg       0.86      0.84      0.85      3001\n",
      "\n"
     ]
    }
   ],
   "source": [
    "sm_model = MultinomialNB()\n",
    "sm_model.fit(x_train_res, y_train_res)\n",
    "y_pred_smote = sm_model.predict(X_test)\n",
    "print(metrics.classification_report(y_test,y_pred_smote))"
   ]
  },
  {
   "cell_type": "code",
   "execution_count": 70,
   "metadata": {
    "ExecuteTime": {
     "end_time": "2020-06-23T14:41:42.353696Z",
     "start_time": "2020-06-23T14:41:42.348961Z"
    }
   },
   "outputs": [
    {
     "name": "stdout",
     "output_type": "stream",
     "text": [
      "0.15528157280906366\n"
     ]
    }
   ],
   "source": [
    "print(hamming_loss(y_test, y_pred_smote))"
   ]
  },
  {
   "cell_type": "code",
   "execution_count": 71,
   "metadata": {
    "ExecuteTime": {
     "end_time": "2020-06-23T14:41:42.363715Z",
     "start_time": "2020-06-23T14:41:42.355763Z"
    }
   },
   "outputs": [
    {
     "name": "stdout",
     "output_type": "stream",
     "text": [
      "0.6962357294114606\n"
     ]
    }
   ],
   "source": [
    "print(cohen_kappa_score(y_test, y_pred_smote))"
   ]
  },
  {
   "cell_type": "code",
   "execution_count": 72,
   "metadata": {
    "ExecuteTime": {
     "end_time": "2020-06-23T14:41:42.374469Z",
     "start_time": "2020-06-23T14:41:42.365825Z"
    }
   },
   "outputs": [
    {
     "name": "stdout",
     "output_type": "stream",
     "text": [
      "F0.5 of 0 class is 0.45045045045045046\n",
      "F2 of 0 class is 0.5780346820809249\n",
      "-----------\n",
      "F0.5 of 1 class is 0.8953083384552346\n",
      "F2 of 1 class is 0.9394818875631517\n",
      "-----------\n",
      "F0.5 of 2 class is 0.8527230887241113\n",
      "F2 of 2 class is 0.7150514579759861\n",
      "-----------\n"
     ]
    }
   ],
   "source": [
    "fscores(y_test, y_pred_smote)"
   ]
  },
  {
   "cell_type": "markdown",
   "metadata": {},
   "source": [
    "# SMOTE on data w/o NaN products"
   ]
  },
  {
   "cell_type": "code",
   "execution_count": 73,
   "metadata": {
    "ExecuteTime": {
     "end_time": "2020-06-23T14:41:50.026947Z",
     "start_time": "2020-06-23T14:41:49.325787Z"
    }
   },
   "outputs": [
    {
     "name": "stderr",
     "output_type": "stream",
     "text": [
      "/Users/michaelburak/opt/anaconda3/envs/learn-env/lib/python3.6/site-packages/sklearn/utils/deprecation.py:86: FutureWarning: Function safe_indexing is deprecated; safe_indexing is deprecated in version 0.22 and will be removed in version 0.24.\n",
      "  warnings.warn(msg, category=FutureWarning)\n"
     ]
    },
    {
     "name": "stdout",
     "output_type": "stream",
     "text": [
      "2    1789\n",
      "0     348\n",
      "1      67\n",
      "Name: sentiment, dtype: int64 [1789 1789 1789]\n"
     ]
    },
    {
     "name": "stderr",
     "output_type": "stream",
     "text": [
      "/Users/michaelburak/opt/anaconda3/envs/learn-env/lib/python3.6/site-packages/sklearn/utils/deprecation.py:86: FutureWarning: Function safe_indexing is deprecated; safe_indexing is deprecated in version 0.22 and will be removed in version 0.24.\n",
      "  warnings.warn(msg, category=FutureWarning)\n"
     ]
    }
   ],
   "source": [
    "sm = SMOTE(random_state=12)\n",
    "x_train_pn_res, y_train_pn_res = sm.fit_sample(X_train_posneg, y_train_posneg)\n",
    "print (y_train_posneg.value_counts() , np.bincount(y_train_pn_res))"
   ]
  },
  {
   "cell_type": "code",
   "execution_count": 74,
   "metadata": {
    "ExecuteTime": {
     "end_time": "2020-06-23T14:41:50.425248Z",
     "start_time": "2020-06-23T14:41:50.285753Z"
    }
   },
   "outputs": [
    {
     "data": {
      "image/png": "[encoded data removed]",
      "text/plain": [
       "<Figure size 748.8x514.8 with 1 Axes>"
      ]
     },
     "metadata": {
      "needs_background": "light"
     },
     "output_type": "display_data"
    },
    {
     "data": {
      "text/plain": [
       "<matplotlib.axes._subplots.AxesSubplot at 0x1667d8f28>"
      ]
     },
     "execution_count": 74,
     "metadata": {},
     "output_type": "execute_result"
    }
   ],
   "source": [
    "from yellowbrick.target import ClassBalance\n",
    "visualizer = ClassBalance(labels=[\"Negative\", \"Neutral\", \"Positive\"])\n",
    "\n",
    "visualizer.fit(y_train_pn_res)        # Fit the data to the visualizer\n",
    "visualizer.show()"
   ]
  },
  {
   "cell_type": "code",
   "execution_count": 75,
   "metadata": {
    "ExecuteTime": {
     "end_time": "2020-06-23T14:41:51.010584Z",
     "start_time": "2020-06-23T14:41:50.919016Z"
    }
   },
   "outputs": [
    {
     "name": "stdout",
     "output_type": "stream",
     "text": [
      "              precision    recall  f1-score   support\n",
      "\n",
      "           0       0.45      0.64      0.53       171\n",
      "           1       0.07      0.18      0.10        33\n",
      "           2       0.92      0.79      0.85       883\n",
      "\n",
      "    accuracy                           0.75      1087\n",
      "   macro avg       0.48      0.54      0.49      1087\n",
      "weighted avg       0.82      0.75      0.78      1087\n",
      "\n"
     ]
    }
   ],
   "source": [
    "sm_pn_model = MultinomialNB()\n",
    "sm_pn_model.fit(x_train_pn_res, y_train_pn_res)\n",
    "y_pred_pn_smote = sm_pn_model.predict(X_test_posneg)\n",
    "print(metrics.classification_report(y_test_posneg,y_pred_pn_smote))"
   ]
  },
  {
   "cell_type": "code",
   "execution_count": 76,
   "metadata": {
    "ExecuteTime": {
     "end_time": "2020-06-23T14:41:51.922526Z",
     "start_time": "2020-06-23T14:41:51.918662Z"
    }
   },
   "outputs": [
    {
     "name": "stdout",
     "output_type": "stream",
     "text": [
      "0.25206991720331184\n"
     ]
    }
   ],
   "source": [
    "print(hamming_loss(y_test_posneg, y_pred_pn_smote))"
   ]
  },
  {
   "cell_type": "code",
   "execution_count": 78,
   "metadata": {
    "ExecuteTime": {
     "end_time": "2020-06-23T14:42:07.771519Z",
     "start_time": "2020-06-23T14:42:07.765138Z"
    }
   },
   "outputs": [
    {
     "name": "stdout",
     "output_type": "stream",
     "text": [
      "0.36340902484482673\n"
     ]
    }
   ],
   "source": [
    "print(cohen_kappa_score(y_test_posneg, y_pred_pn_smote))"
   ]
  },
  {
   "cell_type": "code",
   "execution_count": 79,
   "metadata": {
    "ExecuteTime": {
     "end_time": "2020-06-23T14:42:24.397282Z",
     "start_time": "2020-06-23T14:42:24.390658Z"
    }
   },
   "outputs": [
    {
     "name": "stdout",
     "output_type": "stream",
     "text": [
      "F0.5 of 0 class is 0.4811898512685915\n",
      "F2 of 0 class is 0.5933117583603021\n",
      "-----------\n",
      "F0.5 of 1 class is 0.07957559681697612\n",
      "F2 of 1 class is 0.13761467889908255\n",
      "-----------\n",
      "F0.5 of 2 class is 0.8901660280970626\n",
      "F2 of 2 class is 0.8123543123543123\n",
      "-----------\n"
     ]
    }
   ],
   "source": [
    "fscores(y_test_posneg, y_pred_pn_smote)"
   ]
  },
  {
   "cell_type": "markdown",
   "metadata": {},
   "source": [
    "# Conclusion: Loses predictive power on the neutral class but increases greatly on the other two classes, except with Kappa"
   ]
  },
  {
   "cell_type": "markdown",
   "metadata": {},
   "source": [
    "# Outlier detection approaches"
   ]
  },
  {
   "cell_type": "code",
   "execution_count": null,
   "metadata": {},
   "outputs": [],
   "source": []
  },
  {
   "cell_type": "markdown",
   "metadata": {},
   "source": [
    "# Multilabel classification? - needs to include SMOTE"
   ]
  },
  {
   "cell_type": "code",
   "execution_count": 87,
   "metadata": {
    "ExecuteTime": {
     "end_time": "2020-06-23T16:51:19.964468Z",
     "start_time": "2020-06-23T16:51:19.866575Z"
    }
   },
   "outputs": [],
   "source": [
    "from sklearn.preprocessing import MultiLabelBinarizer\n",
    "mlb = MultiLabelBinarizer()\n",
    "\n",
    "y=pd.DataFrame(mlb.fit_transform(clean_df[['direction','sentiment']].values), columns=mlb.classes_, index=clean_df.index)"
   ]
  },
  {
   "cell_type": "code",
   "execution_count": 88,
   "metadata": {
    "ExecuteTime": {
     "end_time": "2020-06-23T16:51:20.369109Z",
     "start_time": "2020-06-23T16:51:20.316728Z"
    }
   },
   "outputs": [],
   "source": [
    "X = clean_df.drop(['direction', 'sentiment'],axis=1)"
   ]
  },
  {
   "cell_type": "code",
   "execution_count": 89,
   "metadata": {
    "ExecuteTime": {
     "end_time": "2020-06-23T16:51:20.808681Z",
     "start_time": "2020-06-23T16:51:20.399899Z"
    }
   },
   "outputs": [],
   "source": [
    "mapper = DataFrameMapper([\n",
    "     ('text', TfidfVectorizer()),\n",
    "   \n",
    "     ('tweet_len', None),\n",
    "     ('tweet_words', None),\n",
    " ])\n",
    "X = mapper.fit_transform(X)"
   ]
  },
  {
   "cell_type": "code",
   "execution_count": 90,
   "metadata": {
    "ExecuteTime": {
     "end_time": "2020-06-23T16:51:21.531195Z",
     "start_time": "2020-06-23T16:51:20.812060Z"
    }
   },
   "outputs": [],
   "source": [
    "X_train, X_test, y_train, y_test = train_test_split(X, y, test_size=0.33, random_state=42,stratify=y)"
   ]
  },
  {
   "cell_type": "code",
   "execution_count": 91,
   "metadata": {
    "ExecuteTime": {
     "end_time": "2020-06-23T16:51:35.669936Z",
     "start_time": "2020-06-23T16:51:21.533842Z"
    }
   },
   "outputs": [],
   "source": [
    "from skmultilearn.problem_transform import ClassifierChain\n",
    "\n",
    "from skmultilearn.problem_transform import LabelPowerset\n",
    "\n",
    "\n",
    "\n",
    "# initialize LabelPowerset multi-label classifier with a RandomForest\n",
    "classifier = ClassifierChain(\n",
    "    classifier = RandomForestClassifier(n_estimators=100),\n",
    "    require_dense = [False, True]\n",
    ")\n",
    "\n",
    "# train\n",
    "classifier.fit(X_train, y_train)\n",
    "\n",
    "# predict\n",
    "predictions = classifier.predict(X_test)"
   ]
  },
  {
   "cell_type": "code",
   "execution_count": 92,
   "metadata": {
    "ExecuteTime": {
     "end_time": "2020-06-23T16:51:35.681647Z",
     "start_time": "2020-06-23T16:51:35.672158Z"
    }
   },
   "outputs": [
    {
     "name": "stdout",
     "output_type": "stream",
     "text": [
      "0.18704876152393646\n"
     ]
    }
   ],
   "source": [
    "print(hamming_loss(y_test, predictions))"
   ]
  },
  {
   "cell_type": "code",
   "execution_count": 93,
   "metadata": {
    "ExecuteTime": {
     "end_time": "2020-06-23T16:51:35.685008Z",
     "start_time": "2020-06-23T16:51:35.683047Z"
    }
   },
   "outputs": [],
   "source": [
    "# print(cohen_kappa_score(y_test, predictions))"
   ]
  },
  {
   "cell_type": "code",
   "execution_count": 94,
   "metadata": {
    "ExecuteTime": {
     "end_time": "2020-06-23T16:51:51.629354Z",
     "start_time": "2020-06-23T16:51:35.686655Z"
    }
   },
   "outputs": [],
   "source": [
    "from skmultilearn.problem_transform import BinaryRelevance\n",
    "from sklearn.svm import SVC\n",
    "\n",
    "# initialize Binary Relevance multi-label classifier\n",
    "# with an SVM classifier\n",
    "# SVM in scikit only supports the X matrix in sparse representation\n",
    "\n",
    "classifier = BinaryRelevance(\n",
    "    classifier = RandomForestClassifier(n_estimators=100),\n",
    "    require_dense = [False, True]\n",
    ")\n",
    "\n",
    "# train\n",
    "classifier.fit(X_train, y_train)\n",
    "\n",
    "# predict\n",
    "predictions = classifier.predict(X_test)"
   ]
  },
  {
   "cell_type": "code",
   "execution_count": 95,
   "metadata": {
    "ExecuteTime": {
     "end_time": "2020-06-23T16:51:51.636808Z",
     "start_time": "2020-06-23T16:51:51.631364Z"
    }
   },
   "outputs": [
    {
     "name": "stdout",
     "output_type": "stream",
     "text": [
      "0.18282794624014218\n"
     ]
    }
   ],
   "source": [
    "print(hamming_loss(y_test, predictions))"
   ]
  },
  {
   "cell_type": "code",
   "execution_count": 96,
   "metadata": {
    "ExecuteTime": {
     "end_time": "2020-06-23T16:51:51.641428Z",
     "start_time": "2020-06-23T16:51:51.639475Z"
    }
   },
   "outputs": [],
   "source": [
    "# print(cohen_kappa_score(y_test, predictions))"
   ]
  },
  {
   "cell_type": "code",
   "execution_count": 97,
   "metadata": {
    "ExecuteTime": {
     "end_time": "2020-06-23T16:51:52.344192Z",
     "start_time": "2020-06-23T16:51:51.643301Z"
    }
   },
   "outputs": [
    {
     "data": {
      "text/plain": [
       "<9092x9780 sparse matrix of type '<class 'numpy.float64'>'\n",
       "\twith 165439 stored elements in Compressed Sparse Row format>"
      ]
     },
     "execution_count": 97,
     "metadata": {},
     "output_type": "execute_result"
    }
   ],
   "source": [
    "from scipy import sparse\n",
    "\n",
    "X_sparse = sparse.csr_matrix(X)\n",
    "\n",
    "X_sparse"
   ]
  },
  {
   "cell_type": "code",
   "execution_count": 98,
   "metadata": {
    "ExecuteTime": {
     "end_time": "2020-06-23T16:51:52.349559Z",
     "start_time": "2020-06-23T16:51:52.345840Z"
    }
   },
   "outputs": [
    {
     "data": {
      "text/plain": [
       "<9092x3 sparse matrix of type '<class 'numpy.longlong'>'\n",
       "\twith 17462 stored elements in Compressed Sparse Row format>"
      ]
     },
     "execution_count": 98,
     "metadata": {},
     "output_type": "execute_result"
    }
   ],
   "source": [
    "y_sparse = sparse.csr_matrix(y)\n",
    "\n",
    "y_sparse"
   ]
  },
  {
   "cell_type": "code",
   "execution_count": 99,
   "metadata": {
    "ExecuteTime": {
     "end_time": "2020-06-23T16:51:52.478015Z",
     "start_time": "2020-06-23T16:51:52.351408Z"
    }
   },
   "outputs": [],
   "source": [
    "X_train, X_test, y_train, y_test = train_test_split(X_sparse, y_sparse, test_size=0.33, random_state=42,stratify=y)"
   ]
  },
  {
   "cell_type": "code",
   "execution_count": 100,
   "metadata": {
    "ExecuteTime": {
     "end_time": "2020-06-23T16:51:58.791417Z",
     "start_time": "2020-06-23T16:51:52.480022Z"
    }
   },
   "outputs": [
    {
     "name": "stderr",
     "output_type": "stream",
     "text": [
      "/Users/michaelburak/opt/anaconda3/envs/learn-env/lib/python3.6/site-packages/sklearn/utils/validation.py:71: FutureWarning: Pass n_neighbors=3 as keyword args. From version 0.25 passing these as positional arguments will result in an error\n",
      "  FutureWarning)\n"
     ]
    }
   ],
   "source": [
    "from skmultilearn.adapt import MLkNN\n",
    "\n",
    "classifier = MLkNN(k=3)\n",
    "\n",
    "# train\n",
    "classifier.fit(X_train, y_train)\n",
    "\n",
    "# predict\n",
    "predictions = classifier.predict(X_test)"
   ]
  },
  {
   "cell_type": "code",
   "execution_count": 101,
   "metadata": {
    "ExecuteTime": {
     "end_time": "2020-06-23T16:51:58.800515Z",
     "start_time": "2020-06-23T16:51:58.793092Z"
    }
   },
   "outputs": [
    {
     "name": "stdout",
     "output_type": "stream",
     "text": [
      "0.2539153615461513\n"
     ]
    }
   ],
   "source": [
    "print(hamming_loss(y_test, predictions))"
   ]
  },
  {
   "cell_type": "code",
   "execution_count": 102,
   "metadata": {
    "ExecuteTime": {
     "end_time": "2020-06-23T16:51:58.805027Z",
     "start_time": "2020-06-23T16:51:58.802789Z"
    }
   },
   "outputs": [],
   "source": [
    "# print(cohen_kappa_score(y_test, predictions))"
   ]
  },
  {
   "cell_type": "code",
   "execution_count": 103,
   "metadata": {
    "ExecuteTime": {
     "end_time": "2020-06-23T16:52:14.809261Z",
     "start_time": "2020-06-23T16:51:58.807081Z"
    }
   },
   "outputs": [
    {
     "name": "stdout",
     "output_type": "stream",
     "text": [
      "0.18160613128957015\n"
     ]
    }
   ],
   "source": [
    "from skmultilearn.problem_transform import BinaryRelevance\n",
    "from sklearn.svm import SVC\n",
    "\n",
    "# initialize Binary Relevance multi-label classifier\n",
    "# with an SVM classifier\n",
    "# SVM in scikit only supports the X matrix in sparse representation\n",
    "\n",
    "classifier = BinaryRelevance(\n",
    "    classifier = RandomForestClassifier(n_estimators=100),\n",
    "    require_dense = [False, True]\n",
    ")\n",
    "\n",
    "# train\n",
    "classifier.fit(X_train, y_train)\n",
    "\n",
    "# predict\n",
    "predictions = classifier.predict(X_test)\n",
    "print(hamming_loss(y_test, predictions))"
   ]
  },
  {
   "cell_type": "code",
   "execution_count": 104,
   "metadata": {
    "ExecuteTime": {
     "end_time": "2020-06-23T16:52:28.645653Z",
     "start_time": "2020-06-23T16:52:14.810912Z"
    }
   },
   "outputs": [
    {
     "name": "stdout",
     "output_type": "stream",
     "text": [
      "0.18660446517827392\n"
     ]
    }
   ],
   "source": [
    "from skmultilearn.problem_transform import ClassifierChain\n",
    "\n",
    "from skmultilearn.problem_transform import LabelPowerset\n",
    "from sklearn.ensemble import RandomForestClassifier\n",
    "\n",
    "# initialize LabelPowerset multi-label classifier with a RandomForest\n",
    "classifier = ClassifierChain(\n",
    "    classifier = RandomForestClassifier(n_estimators=100),\n",
    "    require_dense = [False, True]\n",
    ")\n",
    "\n",
    "# train\n",
    "classifier.fit(X_train, y_train)\n",
    "\n",
    "# predict\n",
    "predictions = classifier.predict(X_test)\n",
    "print(hamming_loss(y_test, predictions))"
   ]
  },
  {
   "cell_type": "code",
   "execution_count": 105,
   "metadata": {
    "ExecuteTime": {
     "end_time": "2020-06-23T16:52:28.649161Z",
     "start_time": "2020-06-23T16:52:28.647155Z"
    }
   },
   "outputs": [],
   "source": [
    "# print(cohen_kappa_score(y_test, predictions))"
   ]
  },
  {
   "cell_type": "code",
   "execution_count": null,
   "metadata": {},
   "outputs": [],
   "source": []
  }
 ],
 "metadata": {
  "accelerator": "GPU",
  "colab": {
   "collapsed_sections": [],
   "name": "twitter_apple_google_sentiment.ipynb",
   "provenance": [],
   "toc_visible": true
  },
  "kernelspec": {
   "display_name": "Python [conda env:learn-env] *",
   "language": "python",
   "name": "conda-env-learn-env-py"
  },
  "language_info": {
   "codemirror_mode": {
    "name": "ipython",
    "version": 3
   },
   "file_extension": ".py",
   "mimetype": "text/x-python",
   "name": "python",
   "nbconvert_exporter": "python",
   "pygments_lexer": "ipython3",
   "version": "3.6.9"
  },
  "toc": {
   "base_numbering": 1,
   "nav_menu": {},
   "number_sections": true,
   "sideBar": true,
   "skip_h1_title": false,
   "title_cell": "Table of Contents",
   "title_sidebar": "Contents",
   "toc_cell": false,
   "toc_position": {},
   "toc_section_display": true,
   "toc_window_display": false
  }
 },
 "nbformat": 4,
 "nbformat_minor": 1
}
